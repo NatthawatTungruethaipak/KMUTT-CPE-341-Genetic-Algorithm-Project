{
  "nbformat": 4,
  "nbformat_minor": 0,
  "metadata": {
    "colab": {
      "name": "Optimization Project.ipynb",
      "provenance": [],
      "collapsed_sections": [
        "b03t5dGVLUds",
        "7z-apAWCLUds",
        "bK3m2b_tLUdw",
        "9dIsHnSdLUdx",
        "1CITXz_YLUdx",
        "YD64uyJMLUdx",
        "mgrq8rPcLUdy",
        "ZCHEpqxBLUdy",
        "T5ZgCw3uLUdy",
        "Qt3hCPB3LUdy",
        "1UWv8hZzLUdy",
        "fHf-fM7zLUdy",
        "EJpmqmgQLUdz",
        "Jl5N_hzZLUdz",
        "I7to6nkpXngx",
        "zXSJVqfRbO8d",
        "_TS-ikj3cVs2",
        "BciMiZe_expN",
        "mNoBPRtTe2X5",
        "ArqP12asLUdz",
        "8w8f04LoaFP7",
        "ACKD34dZbxOk",
        "rNKYkhg9LUd0",
        "ih5Lx3O0LUd0",
        "aSx6h6fzLUd1"
      ]
    },
    "kernelspec": {
      "display_name": "Python 3",
      "language": "python",
      "name": "python3"
    },
    "language_info": {
      "codemirror_mode": {
        "name": "ipython",
        "version": 3
      },
      "file_extension": ".py",
      "mimetype": "text/x-python",
      "name": "python",
      "nbconvert_exporter": "python",
      "pygments_lexer": "ipython3",
      "version": "3.7.4"
    }
  },
  "cells": [
    {
      "cell_type": "markdown",
      "metadata": {
        "id": "AfFMCtusLUdr"
      },
      "source": [
        "# Vehicle Capacity Routing Problem"
      ]
    },
    {
      "cell_type": "markdown",
      "metadata": {
        "id": "hiUPny_9LUdr"
      },
      "source": [
        "## Group member"
      ]
    },
    {
      "cell_type": "markdown",
      "metadata": {
        "id": "Y_elKybPLUds"
      },
      "source": [
        "### Group name\n",
        "TK & Friends\n",
        "\n",
        "### Group member\n",
        "1. Jirayu\t\tJanraluek\t\t60070501008\n",
        "2. Prakasit\tNuchkamnerd \t60070501032\n",
        "3. Jariwat\tPhansri\t\t60070501076\n",
        "4. Nathaphop\tSundarabhogin\t60070503420\n",
        "\n"
      ]
    },
    {
      "cell_type": "markdown",
      "metadata": {
        "id": "b03t5dGVLUds"
      },
      "source": [
        "## Import Library"
      ]
    },
    {
      "cell_type": "code",
      "metadata": {
        "id": "kE3oOC3yLUds"
      },
      "source": [
        "import numpy as np\n",
        "import matplotlib.pyplot as plt\n",
        "import random\n",
        "from random import random, randint, choice, choices, shuffle, sample\n",
        "import math\n",
        "from math import ceil, floor\n",
        "import copy\n",
        "from copy import deepcopy\n",
        "import time\n",
        "\n",
        "%matplotlib inline"
      ],
      "execution_count": null,
      "outputs": []
    },
    {
      "cell_type": "markdown",
      "metadata": {
        "id": "fuMT7GstLUds"
      },
      "source": [
        "## Define function"
      ]
    },
    {
      "cell_type": "markdown",
      "metadata": {
        "id": "7z-apAWCLUds"
      },
      "source": [
        "### `sum_distance`\n",
        "Sum the distance of path\n",
        "### Parameter:\n",
        "d - Distance between node\\\n",
        "x - Traveled node or path\n",
        "display - Display how distance travel"
      ]
    },
    {
      "cell_type": "code",
      "metadata": {
        "id": "-Q1gwF-5LUds"
      },
      "source": [
        "def sum_distance(d, x, display=False):\n",
        "    distance = 0\n",
        "    for i in range(len(x)-1):\n",
        "        distance += d[x[i]][x[i+1]]\n",
        "        if display == True:\n",
        "            print(\"%d -> %d: %.02lf\" %(x[i], x[i+1],d[x[i]][x[i+1]]))\n",
        "            print(\"Sum Distance: \",distance)\n",
        "            print(\"==========\")\n",
        "\n",
        "    distance += d[x[-1]][0]\n",
        "    if display == True:\n",
        "        print(\"%d -> %d: %.02lf\" %(x[-1], x[0],d[x[-1]][x[0]]))\n",
        "        print(\"Sum Distance: \",distance)\n",
        "        print(\"==========\")\n",
        "    return distance"
      ],
      "execution_count": null,
      "outputs": []
    },
    {
      "cell_type": "code",
      "metadata": {
        "colab": {
          "base_uri": "https://localhost:8080/"
        },
        "id": "bMvBbzXlLUdt",
        "outputId": "ac06e4e4-6f9b-47b8-bba0-289e15bc6104"
      },
      "source": [
        "# Example\n",
        "d_example = [[0,4,5],\n",
        "             [4,0,3],\n",
        "             [5,3,0]]\n",
        "x_example = [0,1,2]\n",
        "\n",
        "distance = sum_distance(d_example, x_example)\n",
        "print(\"Distance: %.02lf\" % distance)"
      ],
      "execution_count": null,
      "outputs": [
        {
          "output_type": "stream",
          "text": [
            "Distance: 12.00\n"
          ],
          "name": "stdout"
        }
      ]
    },
    {
      "cell_type": "code",
      "metadata": {
        "colab": {
          "base_uri": "https://localhost:8080/"
        },
        "id": "bZlGFVIrLUdw",
        "outputId": "bd11ea65-7814-41a4-f3de-c5e78011960f"
      },
      "source": [
        "# Example\n",
        "d_example = [[0,4,5],\n",
        "             [4,0,3],\n",
        "             [5,3,0]]\n",
        "x_example = [0,1,2]\n",
        "\n",
        "distance = sum_distance(d_example, x_example, True)\n",
        "print(\"Distance: %.02lf\" % distance)"
      ],
      "execution_count": null,
      "outputs": [
        {
          "output_type": "stream",
          "text": [
            "0 -> 1: 4.00\n",
            "Sum Distance:  4\n",
            "==========\n",
            "1 -> 2: 3.00\n",
            "Sum Distance:  7\n",
            "==========\n",
            "2 -> 0: 5.00\n",
            "Sum Distance:  12\n",
            "==========\n",
            "Distance: 12.00\n"
          ],
          "name": "stdout"
        }
      ]
    },
    {
      "cell_type": "markdown",
      "metadata": {
        "id": "bK3m2b_tLUdw"
      },
      "source": [
        "### `sum_demand`\n",
        "Sum every demand of each customer in path\n",
        "#### Parameter:\n",
        "w - Demand of customer in each city\\\n",
        "x - Traveled node or path. Can be empty to calculate all demand that need to serve\\\n",
        "display - Display the constraint in each travel_node"
      ]
    },
    {
      "cell_type": "code",
      "metadata": {
        "id": "FFUhWrJcLUdw"
      },
      "source": [
        "def sum_demand(w, x =[], display=False):\n",
        "    demand = 0\n",
        "    if x != []:\n",
        "        for x_item in x:\n",
        "            demand += w[x_item]\n",
        "            if display:\n",
        "                print(\"Node:\", x_item)\n",
        "                print(\"Demand: %.02lf\" % w[x_item])\n",
        "                print(\"Sum Demand: %.02lf\" % demand)\n",
        "                print(\"==========\")\n",
        "    else:\n",
        "        for w_item in w:\n",
        "            demand += w_item\n",
        "    return demand"
      ],
      "execution_count": null,
      "outputs": []
    },
    {
      "cell_type": "code",
      "metadata": {
        "colab": {
          "base_uri": "https://localhost:8080/"
        },
        "id": "eeOTLU9yLUdw",
        "outputId": "50a98f02-3af0-4c76-916b-fa29bdaaa1bd"
      },
      "source": [
        "# Example\n",
        "w_example = [0, 0.1, 0.2, 0.4]\n",
        "x_example = [0,2]\n",
        "\n",
        "demand = sum_demand(w_example, x_example)\n",
        "print(\"Demand: %.02lf\" % demand)\n",
        "\n",
        "demand = sum_demand(w_example)\n",
        "print(\"Demand: %.02lf\" % demand)"
      ],
      "execution_count": null,
      "outputs": [
        {
          "output_type": "stream",
          "text": [
            "Demand: 0.20\n",
            "Demand: 0.70\n"
          ],
          "name": "stdout"
        }
      ]
    },
    {
      "cell_type": "code",
      "metadata": {
        "colab": {
          "base_uri": "https://localhost:8080/"
        },
        "id": "YFrihIYULUdx",
        "outputId": "129805bc-2941-4069-d6fc-b06095bacc11"
      },
      "source": [
        "# Example\n",
        "w_example = [0, 0.1, 0.2, 0.4]\n",
        "x_example = [0,2,1]\n",
        "\n",
        "demand = sum_demand(w_example, x_example, True)\n",
        "print(\"Demand: %.02lf\" % demand)"
      ],
      "execution_count": null,
      "outputs": [
        {
          "output_type": "stream",
          "text": [
            "Node: 0\n",
            "Demand: 0.00\n",
            "Sum Demand: 0.00\n",
            "==========\n",
            "Node: 2\n",
            "Demand: 0.20\n",
            "Sum Demand: 0.20\n",
            "==========\n",
            "Node: 1\n",
            "Demand: 0.10\n",
            "Sum Demand: 0.30\n",
            "==========\n",
            "Demand: 0.30\n"
          ],
          "name": "stdout"
        }
      ]
    },
    {
      "cell_type": "markdown",
      "metadata": {
        "id": "9dIsHnSdLUdx"
      },
      "source": [
        "### `ordered_crossover_path`\n",
        "Ordered crossover of 2 paths. Concate all path and then crossover on position.\\\n",
        "If don't specific position to cut, it will random position to crossover.\\\n",
        "When crossover, it will not consider node = 0.\n",
        "#### Parameter:\n",
        "x1 - First parent (path)\\\n",
        "x2 - Second parent (path\\\n",
        "cut_pos1 - first position to cut. (Don't count the node 0)\\\n",
        "cut_pos2 - second position to cut. (Don't count the node 0)"
      ]
    },
    {
      "cell_type": "code",
      "metadata": {
        "id": "yrhmMZk6LUdx"
      },
      "source": [
        "def ordered_crossover_path(x1, x2, cut_pos1 = None, cut_pos2 = None):\n",
        "    p1 = []\n",
        "    p2 = []\n",
        "    for i in range(len(x1)):\n",
        "        p1 = p1 + x1[i][1:]\n",
        "    for i in range(len(x2)):\n",
        "        p2 = p2 + x2[i][1:]\n",
        "\n",
        "    max_len = len(p1) if len(p1) > len(p2) else len(p2)\n",
        "    \n",
        "    #Random pos to crosover\n",
        "    cut_pos1 = cut_pos1 if cut_pos1 else randint(1, floor(max_len*0.5))\n",
        "    cut_pos2 = cut_pos2 if cut_pos2 else randint(cut_pos1+1, max_len)\n",
        "    \n",
        "    # cut_node\n",
        "    cut_node = p1[cut_pos1:cut_pos2]\n",
        "    \n",
        "    # Filter p2 that don't have in cut_node\n",
        "    filtered_p2 = list(filter(lambda p2_i: p2_i not in cut_node, p2))\n",
        "    \n",
        "    # Assign the rest of child to be p2\n",
        "    prefix = filtered_p2[0:cut_pos1]\n",
        "    suffix = filtered_p2[cut_pos1:]\n",
        "    child = prefix+cut_node+suffix\n",
        "    \n",
        "    child.insert(0,0)\n",
        "    return child"
      ],
      "execution_count": null,
      "outputs": []
    },
    {
      "cell_type": "code",
      "metadata": {
        "colab": {
          "base_uri": "https://localhost:8080/"
        },
        "id": "xPvsixmqLUdx",
        "outputId": "d8716d90-aaa3-451b-9f40-c256a60401b8"
      },
      "source": [
        "x1_example = [[0,3,2,7,6,5,1,4]]\n",
        "x2_example = [[0,1,3,2,5,4]]\n",
        "x_result = ordered_crossover_path(x1_example, x2_example)\n",
        "print(x_result)"
      ],
      "execution_count": null,
      "outputs": [
        {
          "output_type": "stream",
          "text": [
            "[0, 1, 3, 7, 6, 2, 5, 4]\n"
          ],
          "name": "stdout"
        }
      ]
    },
    {
      "cell_type": "code",
      "metadata": {
        "colab": {
          "base_uri": "https://localhost:8080/"
        },
        "id": "BKURfOWnLUdx",
        "outputId": "b5379841-5924-43c9-b0a1-69b5cf75d55f"
      },
      "source": [
        "x1_example = [[0,1,3],[0, 2,5,4]] \n",
        "x2_example = [[0,3,4,2],[0,7,6,5,1]]\n",
        "x_result = ordered_crossover_path(x1_example, x2_example, cut_pos1 = 2, cut_pos2 = 5)\n",
        "print(x_result)"
      ],
      "execution_count": null,
      "outputs": [
        {
          "output_type": "stream",
          "text": [
            "[0, 3, 7, 2, 5, 4, 6, 1]\n"
          ],
          "name": "stdout"
        }
      ]
    },
    {
      "cell_type": "markdown",
      "metadata": {
        "id": "1CITXz_YLUdx"
      },
      "source": [
        "### `mutate_path`\n",
        "Shuffle node inside each path\n",
        "#### Parameter:\n",
        "parent - Solution of path"
      ]
    },
    {
      "cell_type": "code",
      "metadata": {
        "colab": {
          "base_uri": "https://localhost:8080/"
        },
        "id": "k3wB3R0gLUdx",
        "outputId": "6a6414f9-6fd9-486f-b873-18a54f14c3c4"
      },
      "source": [
        "x = [1,2,3]\n",
        "sample(x,k=len(x))\n",
        "x"
      ],
      "execution_count": null,
      "outputs": [
        {
          "output_type": "execute_result",
          "data": {
            "text/plain": [
              "[1, 2, 3]"
            ]
          },
          "metadata": {
            "tags": []
          },
          "execution_count": 13
        }
      ]
    },
    {
      "cell_type": "code",
      "metadata": {
        "id": "nTzd1yUALUdx"
      },
      "source": [
        "def mutate_path(parent):\n",
        "    parent = deepcopy(parent)\n",
        "\n",
        "    # Random path\n",
        "    path_pos = randint(0,len(parent)-1)\n",
        "    pos1, pos2 = choices(range(1, len(parent[path_pos])), k=2)\n",
        "    count = 0\n",
        "    while pos1 == pos2:\n",
        "        path_pos = randint(0,len(parent)-1)\n",
        "        pos1, pos2 = choices(range(1, len(parent[path_pos])), k=2)\n",
        "        if ++count == 5:\n",
        "            break\n",
        "    temp = parent[path_pos][pos1]\n",
        "    parent[path_pos][pos1] = parent[path_pos][pos2]\n",
        "    parent[path_pos][pos2] = temp\n",
        "    return parent"
      ],
      "execution_count": null,
      "outputs": []
    },
    {
      "cell_type": "code",
      "metadata": {
        "colab": {
          "base_uri": "https://localhost:8080/"
        },
        "id": "_NTQgIwELUdx",
        "outputId": "765567dc-b900-46d0-c444-3368a4a15ca5"
      },
      "source": [
        "x_example = [[0, 6, 5, 3, 8],[0, 1, 2, 4, 7]]\n",
        "print(mutate_path(x_example))"
      ],
      "execution_count": null,
      "outputs": [
        {
          "output_type": "stream",
          "text": [
            "[[0, 8, 5, 3, 6], [0, 1, 2, 4, 7]]\n"
          ],
          "name": "stdout"
        }
      ]
    },
    {
      "cell_type": "markdown",
      "metadata": {
        "id": "YD64uyJMLUdx"
      },
      "source": [
        "### `min_n_node_from_demand`\n",
        "Find the number of minimum node to travel to serve all customer demand constraint\n",
        "#### Parameter:\n",
        "w - Demand of customer in each city"
      ]
    },
    {
      "cell_type": "code",
      "metadata": {
        "id": "I7_4tfQ2LUdy"
      },
      "source": [
        "def minimum_n_node_from_demand(w):\n",
        "    count_node = 0\n",
        "    for w_item in w:\n",
        "        if w_item > 0:\n",
        "            count_node += 1\n",
        "    return count_node"
      ],
      "execution_count": null,
      "outputs": []
    },
    {
      "cell_type": "code",
      "metadata": {
        "colab": {
          "base_uri": "https://localhost:8080/"
        },
        "id": "8mKhNhdXLUdy",
        "outputId": "82830070-4c3a-4e1c-e843-558c509f972f"
      },
      "source": [
        "w_example = [0.1, 0.2, 0.4, 0, 2, 0]\n",
        "\n",
        "minimum_node = minimum_n_node_from_demand(w_example)\n",
        "print(minimum_node)"
      ],
      "execution_count": null,
      "outputs": [
        {
          "output_type": "stream",
          "text": [
            "4\n"
          ],
          "name": "stdout"
        }
      ]
    },
    {
      "cell_type": "markdown",
      "metadata": {
        "id": "mgrq8rPcLUdy"
      },
      "source": [
        "### `find_unserved_node`\n",
        "Find node that haven't serve the demand\n",
        "#### Parameter:\n",
        "w - Demand of customer in each city\\\n",
        "x - Node that traveled"
      ]
    },
    {
      "cell_type": "code",
      "metadata": {
        "id": "rYYYtwJJLUdy"
      },
      "source": [
        "def find_unserved_node(w, x):\n",
        "    if w == []:\n",
        "        return []\n",
        "    w = w.copy()\n",
        "    for x_item in x:\n",
        "        w[x_item] = 0\n",
        "    unserved_node =[]\n",
        "    for i in range(len(w)):\n",
        "        if w[i] != 0:\n",
        "            unserved_node.append(i)\n",
        "    return unserved_node            "
      ],
      "execution_count": null,
      "outputs": []
    },
    {
      "cell_type": "code",
      "metadata": {
        "colab": {
          "base_uri": "https://localhost:8080/"
        },
        "id": "hkmRb29wLUdy",
        "outputId": "3b66f498-6e0b-483a-86f1-12f6816d6c03"
      },
      "source": [
        "w_example = [0, 1, 0, 2, 0.5, 0, 2, 0]\n",
        "x_example = [0, 1, 2]\n",
        "x_result = find_unserved_node(w_example, x_example)\n",
        "print(x_result)"
      ],
      "execution_count": null,
      "outputs": [
        {
          "output_type": "stream",
          "text": [
            "[3, 4, 6]\n"
          ],
          "name": "stdout"
        }
      ]
    },
    {
      "cell_type": "code",
      "metadata": {
        "colab": {
          "base_uri": "https://localhost:8080/"
        },
        "id": "n2ZQbMjKLUdy",
        "outputId": "7b16fe7c-35d7-458b-d31d-50a22007a0fd"
      },
      "source": [
        "w_example = [0, 1, 0, 2, 0.5, 0, 2, 0]\n",
        "x_example = []\n",
        "x_result = find_unserved_node([], x_example)\n",
        "x_result"
      ],
      "execution_count": null,
      "outputs": [
        {
          "output_type": "execute_result",
          "data": {
            "text/plain": [
              "[]"
            ]
          },
          "metadata": {
            "tags": []
          },
          "execution_count": 20
        }
      ]
    },
    {
      "cell_type": "markdown",
      "metadata": {
        "id": "ZCHEpqxBLUdy"
      },
      "source": [
        "### `split_path_from_demand`\n",
        "Split the path from demand\n",
        "#### Parameter:\n",
        "x - path\\\n",
        "w - Demand constraint\\\n",
        "c - Capacity"
      ]
    },
    {
      "cell_type": "code",
      "metadata": {
        "id": "kRxDWotyLUdy"
      },
      "source": [
        "def split_path_from_demand(x, w, c):\n",
        "    paths = []\n",
        "    path = []\n",
        "    demand = 0\n",
        "    if w == []:\n",
        "        return [x]\n",
        "    for x_item in x:\n",
        "        if demand + w[x_item] > c:\n",
        "            paths.append(path)\n",
        "            path = [0]\n",
        "            demand = 0\n",
        "            \n",
        "        demand += w[x_item]\n",
        "        path.append(x_item)\n",
        "    paths.append(path)\n",
        "    return paths"
      ],
      "execution_count": null,
      "outputs": []
    },
    {
      "cell_type": "code",
      "metadata": {
        "colab": {
          "base_uri": "https://localhost:8080/"
        },
        "id": "oq4fPqflLUdy",
        "outputId": "e056a950-c84f-46dd-e8fb-e1b6a2e24ea3"
      },
      "source": [
        "x_example = [0, 3, 1, 2, 6, 7, 4, 5]\n",
        "\n",
        "split_path_from_demand(x_example, [], 0)"
      ],
      "execution_count": null,
      "outputs": [
        {
          "output_type": "execute_result",
          "data": {
            "text/plain": [
              "[[0, 3, 1, 2, 6, 7, 4, 5]]"
            ]
          },
          "metadata": {
            "tags": []
          },
          "execution_count": 22
        }
      ]
    },
    {
      "cell_type": "code",
      "metadata": {
        "colab": {
          "base_uri": "https://localhost:8080/"
        },
        "id": "MNBbV_WXLUdy",
        "outputId": "ec5f2843-4552-4277-eef0-12016a955c62"
      },
      "source": [
        "x_example = [0, 3, 1, 2, 6, 7, 4, 5]\n",
        "w_example = [0, 3, 2, 1, 3, 1, 1 ,2]\n",
        "c_example = 5\n",
        "\n",
        "split_path_from_demand(x_example, w_example, c_example)"
      ],
      "execution_count": null,
      "outputs": [
        {
          "output_type": "execute_result",
          "data": {
            "text/plain": [
              "[[0, 3, 1], [0, 2, 6, 7], [0, 4, 5]]"
            ]
          },
          "metadata": {
            "tags": []
          },
          "execution_count": 23
        }
      ]
    },
    {
      "cell_type": "markdown",
      "metadata": {
        "id": "T5ZgCw3uLUdy"
      },
      "source": [
        "### `generate_random_path`\n",
        "Generate the random path at least possible minimum node to n node.\\\n",
        "Also, split the path depends on demand constraint.\n",
        "#### Parameter:\n",
        "N - Number of node\\\n",
        "w - Demand constraint\\\n",
        "c - Capacity\\\n",
        "n - number of minimum customer node (don't count node = 0)\\\n",
        "n_truck - number of truck"
      ]
    },
    {
      "cell_type": "code",
      "metadata": {
        "id": "KE8zL8wzLUdy"
      },
      "source": [
        "def generate_random_path(N, w=[], c=999, n=-1, n_path=1):\n",
        "    w = [0 for _ in range(N+1)] if w == [] else w # If w is empty list, set weight to 0  \n",
        "    \n",
        "    n = n if n != -1 else minimum_n_node_from_demand(w) # If not set n, set n to possible minimum distance\n",
        "\n",
        "    # set all node\n",
        "    all_node = [i for i in range(1,N)]\n",
        "    shuffle(all_node)\n",
        "\n",
        "    # Select only n node\n",
        "    rand_path = all_node[:n]\n",
        "    \n",
        "    # Add node that doesn't serve demand and shuffle again\n",
        "    rand_path = rand_path + find_unserved_node(w, rand_path)\n",
        "    shuffle(rand_path)\n",
        "    \n",
        "    # Add initial node\n",
        "    rand_path.insert(0,0)\n",
        "    \n",
        "    # If have weight constraint\n",
        "    paths = split_path_from_demand(rand_path, w, c)\n",
        "    \n",
        "\n",
        "    # If the number of path more than number of truck, random agian\n",
        "    if len(paths) > n_path:\n",
        "        paths = generate_random_path(N, w, c, n, n_path)\n",
        "\n",
        "    return paths"
      ],
      "execution_count": null,
      "outputs": []
    },
    {
      "cell_type": "code",
      "metadata": {
        "colab": {
          "base_uri": "https://localhost:8080/"
        },
        "id": "el5x0vZBLUdy",
        "outputId": "c4d4f211-f041-4f18-99ca-6e8efc15c179"
      },
      "source": [
        "path_result = generate_random_path(N=15, n=10)\n",
        "print(\"Path:\", path_result)"
      ],
      "execution_count": null,
      "outputs": [
        {
          "output_type": "stream",
          "text": [
            "Path: [[0, 9, 10, 1, 4, 6, 11, 14, 12, 7, 8]]\n"
          ],
          "name": "stdout"
        }
      ]
    },
    {
      "cell_type": "code",
      "metadata": {
        "colab": {
          "base_uri": "https://localhost:8080/"
        },
        "id": "AMBxx2gILUdy",
        "outputId": "15758777-81ba-4233-ff18-4d1c59a5ff4b"
      },
      "source": [
        "w_example = [0, 0.5, 1, 0.5, 1.5, 2, 2, 0, 0.5, 0, 0.1]\n",
        "c_example = 5\n",
        "paths_result = generate_random_path(N=10, w=w_example, c=c_example, n_path = 2)\n",
        "print(\"Paths:\", paths_result)"
      ],
      "execution_count": null,
      "outputs": [
        {
          "output_type": "stream",
          "text": [
            "Paths: [[0, 1, 6, 10, 9, 3, 4], [0, 2, 7, 8, 5]]\n"
          ],
          "name": "stdout"
        }
      ]
    },
    {
      "cell_type": "markdown",
      "metadata": {
        "id": "Qt3hCPB3LUdy"
      },
      "source": [
        "### `sort_path_distance`\n",
        "Sort every path from the distance\n",
        "#### Parameter:\n",
        "paths - All paths\\\n",
        "distances - All distance"
      ]
    },
    {
      "cell_type": "code",
      "metadata": {
        "id": "AOVle8sULUdy"
      },
      "source": [
        "def sort_path_distance (paths, distances, reverse = False):\n",
        "    # Pair distances and path\n",
        "    zipped_lists = zip(distances, paths)\n",
        "    \n",
        "    # Sort by first element of each pair\n",
        "    sorted_zipped_lists = sorted(zipped_lists, reverse=reverse)\n",
        "    \n",
        "    sorted_paths = [path for _, path in sorted_zipped_lists]\n",
        "    sorted_distance = [distance for distance, _ in sorted_zipped_lists]\n",
        "    return sorted_paths, sorted_distance"
      ],
      "execution_count": null,
      "outputs": []
    },
    {
      "cell_type": "code",
      "metadata": {
        "colab": {
          "base_uri": "https://localhost:8080/"
        },
        "id": "7rGc3CHxLUdy",
        "outputId": "8ea0fdb0-a266-44f3-b933-3f21ccdaafe6"
      },
      "source": [
        "x_example = [[[0,2,1,4],[0,3,5,6]],\n",
        "     [[0,3,2,1],[0,4,5,6]],\n",
        "     [[0,1,4,5],[0,1,3,6]]\n",
        "    ]\n",
        "d_example = [1,2,0]\n",
        "\n",
        "print(\"Before sorted: \")\n",
        "print(x_example)\n",
        "print(d_example)\n",
        "x_result, d_result = sort_path_distance(paths = x_example, distances = d_example)\n",
        "print(\"After sorted\")\n",
        "print(x_result)\n",
        "print(d_result)"
      ],
      "execution_count": null,
      "outputs": [
        {
          "output_type": "stream",
          "text": [
            "Before sorted: \n",
            "[[[0, 2, 1, 4], [0, 3, 5, 6]], [[0, 3, 2, 1], [0, 4, 5, 6]], [[0, 1, 4, 5], [0, 1, 3, 6]]]\n",
            "[1, 2, 0]\n",
            "After sorted\n",
            "[[[0, 1, 4, 5], [0, 1, 3, 6]], [[0, 2, 1, 4], [0, 3, 5, 6]], [[0, 3, 2, 1], [0, 4, 5, 6]]]\n",
            "[0, 1, 2]\n"
          ],
          "name": "stdout"
        }
      ]
    },
    {
      "cell_type": "markdown",
      "metadata": {
        "id": "1UWv8hZzLUdy"
      },
      "source": [
        "### `unique_path`\n",
        "Remove duplicate path.\n",
        "#### Paremeter:\n",
        "x - All paths"
      ]
    },
    {
      "cell_type": "code",
      "metadata": {
        "id": "Bcbb200hLUdy"
      },
      "source": [
        "def unique_path(x): \n",
        "  \n",
        "    # intilize a null list \n",
        "    unique_list = [] \n",
        "      \n",
        "    # traverse for all elements \n",
        "    for sol in x:\n",
        "        # check if exists in unique_list or not \n",
        "        if sol not in unique_list: \n",
        "            unique_list.append(deepcopy(sol)) \n",
        "    return unique_list"
      ],
      "execution_count": null,
      "outputs": []
    },
    {
      "cell_type": "code",
      "metadata": {
        "colab": {
          "base_uri": "https://localhost:8080/"
        },
        "id": "6U4Ol1bNLUdy",
        "outputId": "47b7cdd3-96ba-4d61-cf28-d90b7cece7f8"
      },
      "source": [
        "x_example = [[[0, 1, 3, 2, 4]], [[0,2, 1, 3, 4]], [[0, 2, 4, 5, 1]], [[0, 2, 4, 5, 1]]]\n",
        "unique_path(x_example)"
      ],
      "execution_count": null,
      "outputs": [
        {
          "output_type": "execute_result",
          "data": {
            "text/plain": [
              "[[[0, 1, 3, 2, 4]], [[0, 2, 1, 3, 4]], [[0, 2, 4, 5, 1]]]"
            ]
          },
          "metadata": {
            "tags": []
          },
          "execution_count": 30
        }
      ]
    },
    {
      "cell_type": "markdown",
      "metadata": {
        "id": "fHf-fM7zLUdy"
      },
      "source": [
        "### `roulette_wheel_random`\n",
        "Use roulette wheel to random.\n",
        "#### Paremeter:\n",
        "y - weight to random\\\n",
        "x - item to random\\\n",
        "n - number of item to random\\\n",
        "min_bool - Decided min and max weight (default: max)"
      ]
    },
    {
      "cell_type": "code",
      "metadata": {
        "id": "7asOsQ-fLUdz"
      },
      "source": [
        "def roulette_wheel_random(x, y, n=1, min_bool=False):\n",
        "    y=np.array(y)\n",
        "    prob = (np.sum(y)-y)/(np.sum(np.sum(y)-y)) if min_bool else y/np.sum(y)\n",
        "    pos = np.random.choice(len(y), n, replace=False, p =prob)\n",
        "    rand_item = []\n",
        "    for pos_item in pos:\n",
        "        rand_item.append(x[pos_item])\n",
        "    return rand_item"
      ],
      "execution_count": null,
      "outputs": []
    },
    {
      "cell_type": "code",
      "metadata": {
        "colab": {
          "base_uri": "https://localhost:8080/"
        },
        "id": "b0h74KkpLUdz",
        "outputId": "43caf785-3814-42a4-b68c-6d22404e336b"
      },
      "source": [
        "x_example = [[[0,1,2,3],[0,4,5,6]],\n",
        "     [[0,1,3,2],[0,5,4,6]],\n",
        "     [[0,2,1,3],[0,4,6,5]],\n",
        "     [[0,3,4,5],[0,1,2,6]]\n",
        "    ]\n",
        "y_example = [10,30,20,5]\n",
        "roulette_wheel_random(x_example, y_example)"
      ],
      "execution_count": null,
      "outputs": [
        {
          "output_type": "execute_result",
          "data": {
            "text/plain": [
              "[[[0, 2, 1, 3], [0, 4, 6, 5]]]"
            ]
          },
          "metadata": {
            "tags": []
          },
          "execution_count": 32
        }
      ]
    },
    {
      "cell_type": "code",
      "metadata": {
        "colab": {
          "base_uri": "https://localhost:8080/"
        },
        "id": "P7aIxwWnLUdz",
        "outputId": "29cdca87-2055-45b4-adb9-b0bb13a89a45"
      },
      "source": [
        "roulette_wheel_random(x_example, y_example, n=2, min_bool = True)"
      ],
      "execution_count": null,
      "outputs": [
        {
          "output_type": "execute_result",
          "data": {
            "text/plain": [
              "[[[0, 2, 1, 3], [0, 4, 6, 5]], [[0, 3, 4, 5], [0, 1, 2, 6]]]"
            ]
          },
          "metadata": {
            "tags": []
          },
          "execution_count": 33
        }
      ]
    },
    {
      "cell_type": "markdown",
      "metadata": {
        "id": "eqMW5vTTLUdz"
      },
      "source": [
        "## Algorithm"
      ]
    },
    {
      "cell_type": "markdown",
      "metadata": {
        "id": "EJpmqmgQLUdz"
      },
      "source": [
        "### `brute_force`\n",
        "#### Parameter:\n",
        "d - Distance\\\n",
        "n_node - Number of node\\\n",
        "w - Demand of each customer\\\n",
        "n_path - No. of possible path (trucks)\\\n",
        "c - Capacity\\\n",
        "n - number of customer node (Use when don't have any demand) (Don't count node = 0)\\\n",
        "path - Current path to calculate"
      ]
    },
    {
      "cell_type": "code",
      "metadata": {
        "id": "of5tihn8LUdz"
      },
      "source": [
        "def brute_force(d, n_node, w=[], n_path=1, c=999, n=-1, path=[0]):\n",
        "    min_d = 9999\n",
        "    min_x = []\n",
        "    if (n != -1 and len(path) == n+1):\n",
        "        distance = sum_distance(d=d, x=path)\n",
        "        return distance, path\n",
        "    \n",
        "    x = split_path_from_demand(path, w, c)\n",
        "    # Impossible solution\n",
        "    if(len(x) > n_path):\n",
        "        return 9999, []\n",
        "    \n",
        "    unserved_node = find_unserved_node(w, path)\n",
        "    distance = 0\n",
        "    if (n == -1 and unserved_node == []):\n",
        "        for x_item in x:\n",
        "            distance += sum_distance(d=d, x=x_item)\n",
        "        return distance, x\n",
        "\n",
        "    node_all = [i for i in range(0,n_node)]\n",
        "    node_select = [item for item in node_all if item not in path]\n",
        "    for i in node_select:\n",
        "        new_path = path + [i]\n",
        "        distance, x = brute_force(d=d,n_node=n_node, w=w, n_path=n_path, c=c, n=n, path=new_path)\n",
        "        if distance < min_d:\n",
        "            min_d = distance\n",
        "            min_x = x\n",
        "    return min_d, min_x"
      ],
      "execution_count": null,
      "outputs": []
    },
    {
      "cell_type": "markdown",
      "metadata": {
        "id": "Jl5N_hzZLUdz"
      },
      "source": [
        "### `genetic_algorithm`\n",
        "#### Parameter:\n",
        "d - Distance\\\n",
        "n_node - Number of node\\\n",
        "w - Demand of each customer\\\n",
        "n_path - No. of possible path (trucks)\\\n",
        "c - Capacity\\\n",
        "n - number of customer node (Use when don't have any demand) (Don't count node = 0)\\\n",
        "n_pop - Population\\\n",
        "generation - Generation\\\n",
        "cr - Crossover rate\\\n",
        "mr - Mutation rate\\\n",
        "rr - Reproduction rate\\\n",
        "sp - Survival percentage (Percentage of good solutions to be next gen)"
      ]
    },
    {
      "cell_type": "code",
      "metadata": {
        "id": "yPhXkz0cLUdz"
      },
      "source": [
        "# Crossover\n",
        "def crossover(n_node, parents, obj_parents, n, w, c, n_crossover, n_path):\n",
        "    x_crossover = []\n",
        "    val = 1000 - np.array(obj_parents)\n",
        "    while len(x_crossover) < n_crossover:\n",
        "        parent1, parent2 = roulette_wheel_random(parents, obj_parents, n=2, min_bool=True)\n",
        "        child = ordered_crossover_path(parent1, parent2)\n",
        "        child = split_path_from_demand(child, w, c)\n",
        "        # If the number of path more than number of truck, random\n",
        "        while len(child) > n_path or child in x_crossover:\n",
        "            parent1, parent2 = roulette_wheel_random(parents, obj_parents, n=2, min_bool=True)\n",
        "            child = ordered_crossover_path(parent1, parent2)\n",
        "            child = split_path_from_demand(child, w, c)\n",
        "        x_crossover.append(child)\n",
        "    return x_crossover\n",
        "\n",
        "def mutate(parents, mr):\n",
        "    x_mutate = deepcopy(parents)\n",
        "    for i in range(len(x_mutate)):\n",
        "        if random() < mr:\n",
        "            x_mutate[i] = mutate_path(x_mutate[i])\n",
        "    return x_mutate\n",
        "\n",
        "def genetic_algorithm(d, n_node, w=[], n_path=1, c=999, n=-1, n_pop=100,\\\n",
        "                      generation=300, cr=0.7, mr=0.1):\n",
        "    bests_path = []\n",
        "    bests_distance = []\n",
        "    best_id = 0\n",
        "\n",
        "    # Initial population\n",
        "    x = []\n",
        "    \n",
        "    for _ in range(n_pop):\n",
        "        sol = generate_random_path(N=n_node, w=w, c=c, n=n, n_path = n_path)\n",
        "        x.append(sol)\n",
        "    \n",
        "    for _ in range(generation):\n",
        "        x = unique_path(x)\n",
        "        \n",
        "        y = []\n",
        "        # Evaluate\n",
        "        for x_item in x:\n",
        "            distance = 0\n",
        "            for path in x_item:\n",
        "                distance += sum_distance(d=d, x=path)\n",
        "            y.append(distance)\n",
        "        \n",
        "        x, y = sort_path_distance(paths = x, distances = y)        \n",
        "        \n",
        "        # Get bests value\n",
        "        if best_id == 0 or y[0] < bests_distance[best_id-1]:\n",
        "            bests_path.append(x[0])\n",
        "            bests_distance.append(y[0])\n",
        "            best_id+=1\n",
        "            \n",
        "        # Survival\n",
        "        n_crossover = ceil(n_pop * cr)\n",
        "        n_survival = n_pop - n_crossover\n",
        "        x_survival = deepcopy(x[:n_survival])\n",
        "        y_survival = deepcopy(y[:n_survival])\n",
        "        \n",
        "        # Crossover\n",
        "        x_crossover = crossover(n_node, x, y, n, w, c, n_crossover, n_path)\n",
        "        \n",
        "        # Mutation\n",
        "        x_mutate = mutate(x_crossover, mr)\n",
        "        \n",
        "        x = x_survival + x_mutate\n",
        "    return bests_path, bests_distance    "
      ],
      "execution_count": null,
      "outputs": []
    },
    {
      "cell_type": "markdown",
      "metadata": {
        "id": "CUkwXuKkLUdz"
      },
      "source": [
        "## Define Input"
      ]
    },
    {
      "cell_type": "markdown",
      "metadata": {
        "id": "FSC4bqflLUdz"
      },
      "source": [
        "Define number of node"
      ]
    },
    {
      "cell_type": "code",
      "metadata": {
        "id": "AQwAJQXrLUdz"
      },
      "source": [
        "# For small data set\n",
        "n_node_small = 10 # Number of node\n",
        "n_small = 7       # Number of minimum customer (Used for no constraint)\n",
        "\n",
        "# For big data set\n",
        "n_node_big = 15 # Number of node\n",
        "n_big = 10      # Number of minimum customer (Used for no constraint)"
      ],
      "execution_count": null,
      "outputs": []
    },
    {
      "cell_type": "markdown",
      "metadata": {
        "id": "pu4PPWBGLUdz"
      },
      "source": [
        "Define number of capacity and truck"
      ]
    },
    {
      "cell_type": "code",
      "metadata": {
        "id": "Im1VCKgZLUdz"
      },
      "source": [
        "c_small = 4\n",
        "c_big = 5\n",
        "n_path = 2"
      ],
      "execution_count": null,
      "outputs": []
    },
    {
      "cell_type": "markdown",
      "metadata": {
        "id": "5O5LeGMqLUdz"
      },
      "source": [
        "Distance between each customer"
      ]
    },
    {
      "cell_type": "code",
      "metadata": {
        "id": "KZWfHExELUdz"
      },
      "source": [
        "# Distance between each customer\n",
        "d_8_city = [[0, 10, 28, 23, 65, 16, 16, 42, 16],\n",
        "            [10, 0, 76, 72, 150, 52, 52, 104, 42],\n",
        "            [28, 76, 0, 106, 74, 48, 83, 28, 88],\n",
        "            [23, 72, 106, 0, 180, 82, 82, 134, 18],\n",
        "            [65, 150, 74, 180, 0, 122, 157, 56, 162],\n",
        "            [16, 52, 48, 82, 122, 0, 59, 76, 64],\n",
        "            [16, 52, 83, 82, 157, 59, 0, 111, 64],\n",
        "            [42, 104, 28, 134, 56, 76, 111, 0, 116],\n",
        "            [16, 42, 88, 18, 162, 64, 64, 116, 0]]\n",
        "\n",
        "d_9_city = [[0, 10, 28, 23, 65, 16, 16, 42, 16, 21],\n",
        "            [10, 0, 76, 72, 150, 52, 52, 104, 42, 62],\n",
        "            [28, 76, 0, 106, 74, 48, 83, 28, 88, 58],\n",
        "            [23, 72, 106, 0, 180, 82, 82, 134, 18, 92],\n",
        "            [65, 150, 74, 180, 0, 122, 157, 56, 162, 132],\n",
        "            [16, 52, 48, 82, 122, 0, 59, 76, 64, 34],\n",
        "            [16, 52, 83, 82, 157, 59, 0, 111, 64, 69],\n",
        "            [42, 104, 28, 134, 56, 76, 111, 0, 116, 106],\n",
        "            [16, 42, 88, 18, 162, 64, 64, 116, 0, 74],\n",
        "            [21, 62, 58, 92, 132, 34, 69, 106, 74, 0]]\n",
        "            \n",
        "d_10_city = [[0, 10, 28, 23, 65, 16, 16, 42, 16, 21, 85],\n",
        "         [10, 0, 76, 72, 150, 52, 52, 104, 42, 62, 190],\n",
        "         [28, 76, 0, 106, 74, 48, 83, 28, 88, 58, 186],\n",
        "         [23, 72, 106, 0, 180, 82, 82, 134, 18, 92, 220],\n",
        "         [65, 150, 74, 180, 0, 122, 157, 56, 162, 132, 172],\n",
        "         [16, 52, 48, 82, 122, 0, 59, 76, 64, 34, 162],\n",
        "         [16, 52, 83, 82, 157, 59, 0, 111, 64, 69, 197],\n",
        "         [42, 104, 28, 134, 56, 76, 111, 0, 116, 106, 126],\n",
        "         [16, 42, 88, 18, 162, 64, 64, 116, 0, 74, 202],\n",
        "         [21, 62, 58, 92, 132, 34, 69, 106, 74, 0, 172],\n",
        "         [85, 190, 186, 220, 172, 162, 197, 126, 202, 172, 0]]\n",
        "\n",
        "d_11_city = [[0, 10, 28, 23, 65, 16, 16, 42, 16, 21, 85, 23],\n",
        "         [10, 0, 76, 72, 150, 52, 52, 104, 42, 62, 190, 60],\n",
        "         [28, 76, 0, 106, 74, 48, 83, 28, 88, 58, 186, 10],\n",
        "         [23, 72, 106, 0, 180, 82, 82, 134, 18, 92, 220, 18],\n",
        "         [65, 150, 74, 180, 0, 122, 157, 56, 162, 132, 172, 180],\n",
        "         [16, 52, 48, 82, 122, 0, 59, 76, 64, 34, 162, 82],\n",
        "         [16, 52, 83, 82, 157, 59, 0, 111, 64, 69, 197, 82],\n",
        "         [42, 104, 28, 134, 56, 76, 111, 0, 116, 106, 126, 134],\n",
        "         [16, 42, 88, 18, 162, 64, 64, 116, 0, 74, 202, 18],\n",
        "         [21, 62, 58, 92, 132, 34, 69, 106, 74, 0, 172, 92],\n",
        "         [85, 190, 186, 220, 172, 162, 197, 126, 202, 172, 0, 220],\n",
        "         [23, 60, 106, 18, 180, 82, 82, 134, 18, 92, 220, 0]]\n",
        "\n",
        "d_12_city = [[0, 10, 28, 23, 65, 16, 16, 42, 16, 21, 85, 23, 35],\n",
        "         [10, 0, 76, 72, 150, 52, 52, 104, 42, 62, 190, 60, 90],\n",
        "         [28, 76, 0, 106, 74, 48, 83, 28, 88, 58, 186, 106, 86],\n",
        "         [23, 72, 106, 0, 180, 82, 82, 134, 18, 92, 220, 18, 120],\n",
        "         [65, 150, 74, 180, 0, 122, 157, 56, 162, 132, 172, 180, 120],\n",
        "         [16, 52, 48, 82, 122, 0, 59, 76, 64, 34, 162, 82, 62],\n",
        "         [16, 52, 83, 82, 157, 59, 0, 111, 64, 69, 197, 82, 97],\n",
        "         [42, 104, 28, 134, 56, 76, 111, 0, 116, 106, 126, 134, 114],\n",
        "         [16, 42, 88, 18, 162, 64, 64, 116, 0, 74, 202, 18, 102],\n",
        "         [21, 62, 58, 92, 132, 34, 69, 106, 74, 0, 172, 92, 72],\n",
        "         [85, 190, 186, 220, 172, 162, 197, 126, 202, 172, 0, 220, 110],\n",
        "         [23, 60, 106, 18, 180, 82, 82, 134, 18, 92, 220, 0, 120],\n",
        "         [35, 90, 86, 120, 120, 62, 97, 114, 102, 72, 110, 120, 0]]\n",
        "\n",
        "d_13_city = [[0, 10, 28, 23, 65, 16, 16, 42, 16, 21, 85, 23, 35, 70],\n",
        "         [10, 0, 76, 72, 150, 52, 52, 104, 42, 62, 190, 60, 90, 110],\n",
        "         [28, 76, 0, 106, 74, 48, 83, 28, 88, 58, 186, 106, 86, 146],\n",
        "         [23, 72, 106, 0, 180, 82, 82, 134, 18, 92, 220, 18, 120, 110],\n",
        "         [65, 150, 74, 180, 0, 122, 157, 56, 162, 132, 172, 180, 120, 215],\n",
        "         [16, 52, 48, 82, 122, 0, 59, 76, 64, 34, 162, 82, 62, 117],\n",
        "         [16, 52, 83, 82, 157, 59, 0, 111, 64, 69, 197, 82, 97, 74],\n",
        "         [42, 104, 28, 134, 56, 76, 111, 0, 116, 106, 126, 134, 114, 283],\n",
        "         [16, 42, 88, 18, 162, 64, 64, 116, 0, 74, 202, 18, 102, 112],\n",
        "         [21, 62, 58, 92, 132, 34, 69, 106, 74, 0, 172, 92, 72, 127],\n",
        "         [85, 190, 186, 220, 172, 162, 197, 126, 202, 172, 0, 220, 110, 255],\n",
        "         [23, 60, 106, 18, 180, 82, 82, 134, 18, 92, 220, 0, 120, 130],\n",
        "         [35, 90, 86, 120, 120, 62, 97, 114, 102, 72, 110, 120, 0, 155],\n",
        "         [70, 110, 146, 110, 215, 117, 74, 283, 112, 127, 255, 130, 155, 0]]\n",
        "\n",
        "d_14_city = [[0, 10, 28, 23, 65, 16, 16, 42, 16, 21, 85, 23, 35, 70, 23],\n",
        "         [10, 0, 76, 72, 150, 52, 52, 104, 42, 62, 190, 60, 90, 110, 65],\n",
        "         [28, 76, 0, 106, 74, 48, 83, 28, 88, 58, 186, 106, 86, 146, 106],\n",
        "         [23, 72, 106, 0, 180, 82, 82, 134, 18, 92, 220, 18, 120, 110, 10],\n",
        "         [65, 150, 74, 180, 0, 122, 157, 56, 162, 132, 172, 180, 120, 215, 180],\n",
        "         [16, 52, 48, 82, 122, 0, 59, 76, 64, 34, 162, 82, 62, 117, 82],\n",
        "         [16, 52, 83, 82, 157, 59, 0, 111, 64, 69, 197, 82, 97, 74, 82],\n",
        "         [42, 104, 28, 134, 56, 76, 111, 0, 116, 106, 126, 134, 114, 283, 134],\n",
        "         [16, 42, 88, 18, 162, 64, 64, 116, 0, 74, 202, 18, 102, 112, 18],\n",
        "         [21, 62, 58, 92, 132, 34, 69, 106, 74, 0, 172, 92, 72, 127, 92],\n",
        "         [85, 190, 186, 220, 172, 162, 197, 126, 202, 172, 0, 220, 110, 255, 220],\n",
        "         [23, 60, 106, 18, 180, 82, 82, 134, 18, 92, 220, 0, 120, 130, 10],\n",
        "         [35, 90, 86, 120, 120, 62, 97, 114, 102, 72, 110, 120, 0, 155, 120],\n",
        "         [70, 110, 146, 110, 215, 117, 74, 283, 112, 127, 255, 130, 155, 0, 120],\n",
        "         [23, 65, 106, 10, 180, 82, 82, 134, 18, 92, 220, 10, 120, 120, 0]]"
      ],
      "execution_count": null,
      "outputs": []
    },
    {
      "cell_type": "markdown",
      "metadata": {
        "id": "gUbCco_4LUdz"
      },
      "source": [
        "Demand of each customer"
      ]
    },
    {
      "cell_type": "code",
      "metadata": {
        "id": "DuWKxdK4LUdz"
      },
      "source": [
        "w_small = [0, 0.3, 1.8, 0.5, 0.9, 1.3, 1.5, 0.3, 0.4, 0]\n",
        "\n",
        "w1_8  = [0] + [0, 0.8, 0, 0.9, 1.3, 1.5, 0, 0]\n",
        "w1_9  = [0] + [0, 0.8, 0, 0.9, 1.3, 1.5, 0, 0, 0.3]\n",
        "w1_10 = [0] + [0, 0.8, 0, 0.9, 1.3, 1.5, 0, 0, 0.3, 0.2]\n",
        "w1_11 = [0] + [0, 0.8, 0, 0.9, 1.3, 1.5, 0, 0, 0.3, 0.2, 1]\n",
        "w1_12 = [0] + [0, 0.8, 0, 0.9, 1.3, 1.5, 0, 0, 0.3, 0.2, 1, 0]\n",
        "w1_13 = [0] + [0, 0.8, 0, 0.9, 1.3, 1.5, 0, 0, 0.3, 0.2, 1, 0, 0.6]\n",
        "w1_14 = [0] + [0, 0.8, 0, 0.9, 1.3, 1.5, 0, 0, 0.3, 0.2, 1, 0, 0.6, 0.4]\n",
        "\n",
        "w2_8  = [0] + [0.2, 0.8, 0.3, 0.7, 0.5, 1, 1, 1]\n",
        "w2_9  = [0] + [0.2, 0.8, 0.3, 0.7, 0.5, 1, 1, 1, 2]\n",
        "w2_10 = [0] + [0.2, 0.8, 0.3, 0.7, 0.5, 1, 1, 1, 2, 0.1]\n",
        "w2_11 = [0] + [0.2, 0.8, 0.3, 0.7, 0.5, 1, 1, 1, 2, 0.1, 0.1]\n",
        "w2_12 = [0] + [0.2, 0.8, 0.3, 0.7, 0.5, 1, 1, 1, 2, 0.1, 0.1, 0.2]\n",
        "w2_13 = [0] + [0.2, 0.8, 0.3, 0.7, 0.5, 1, 1, 1, 2, 0.1, 0.1, 0.2, 0.2]\n",
        "w2_14 = [0] + [0.2, 0.8, 0.3, 0.7, 0.5, 1, 1, 1, 2, 0.1, 0.1, 0.2, 0.2, 0.3]\n",
        "\n",
        "w3 = [0] + [2, 0.2, 0.5, 0.1, 1.3, 0.1, 1.5, 1.8, 0, 0, 0.2, 0.3, 0.4, 0.4]\n",
        "w4 = [0] + [0.5, 1, 1.5, 0, 0.2, 0, 0.8, 0.2, 0, 1, 0, 0.1, 0.5, 1.2]"
      ],
      "execution_count": null,
      "outputs": []
    },
    {
      "cell_type": "markdown",
      "metadata": {
        "id": "3z7igVt-LUdz"
      },
      "source": [
        "## Result"
      ]
    },
    {
      "cell_type": "markdown",
      "metadata": {
        "id": "PwsLCF2FLUdz"
      },
      "source": [
        "### Phase 1: Shortest path, no demand constraint"
      ]
    },
    {
      "cell_type": "code",
      "metadata": {
        "id": "-QnuHz2Bcoqs"
      },
      "source": [
        "def ResultPhase1(d_small, n_node_small, n_small):\n",
        "  for i in range(0,5):\n",
        "    print(\"Round \",i+1)\n",
        "    print(\"Genetic Algorithm\") \n",
        "    stime = time.time()\n",
        "    x, y = genetic_algorithm(d=d_small, n_node=n_node_small, n=n_small)\n",
        "    print(\"Time used: %.0f seconds\" % ( time.time() - stime))\n",
        "    print(\"The shortest path is: \", x[-1])\n",
        "    print(\"Distance: \", y[-1]) \n",
        "    print(\"----------------------------------------------\") \n",
        "  print(\"Brute Force\") \n",
        "  stime = time.time()\n",
        "  x = brute_force(d=d_small, n_node=n_node_small, n=n_small)\n",
        "  print(\"Time used: %.0f seconds\" % ( time.time() - stime))\n",
        "  print(\"The shortest path is: \", x[1])\n",
        "  print(\"Distance: \", x[0]) \n",
        "  print(\"==============================================\") "
      ],
      "execution_count": null,
      "outputs": []
    },
    {
      "cell_type": "markdown",
      "metadata": {
        "id": "I7to6nkpXngx"
      },
      "source": [
        "#### 8 City"
      ]
    },
    {
      "cell_type": "code",
      "metadata": {
        "colab": {
          "base_uri": "https://localhost:8080/"
        },
        "id": "ALERvD0iXkl5",
        "outputId": "37d093df-d70f-4068-c0fc-f223a40b46e0"
      },
      "source": [
        "ResultPhase1(d_8_city, n_node_small=9, n_small=8)"
      ],
      "execution_count": null,
      "outputs": [
        {
          "output_type": "stream",
          "text": [
            "Round  1\n",
            "Genetic Algorithm\n",
            "Time used: 3 seconds\n",
            "The shortest path is:  [[0, 4, 7, 2, 5, 6, 1, 8, 3]]\n",
            "Distance:  391\n",
            "----------------------------------------------\n",
            "Round  2\n",
            "Genetic Algorithm\n",
            "Time used: 3 seconds\n",
            "The shortest path is:  [[0, 3, 8, 1, 6, 5, 2, 7, 4]]\n",
            "Distance:  391\n",
            "----------------------------------------------\n",
            "Round  3\n",
            "Genetic Algorithm\n",
            "Time used: 3 seconds\n",
            "The shortest path is:  [[0, 3, 8, 1, 6, 5, 2, 7, 4]]\n",
            "Distance:  391\n",
            "----------------------------------------------\n",
            "Round  4\n",
            "Genetic Algorithm\n",
            "Time used: 3 seconds\n",
            "The shortest path is:  [[0, 3, 8, 1, 6, 5, 2, 7, 4]]\n",
            "Distance:  391\n",
            "----------------------------------------------\n",
            "Round  5\n",
            "Genetic Algorithm\n",
            "Time used: 3 seconds\n",
            "The shortest path is:  [[0, 4, 7, 2, 5, 6, 1, 8, 3]]\n",
            "Distance:  391\n",
            "----------------------------------------------\n",
            "Brute Force\n",
            "Time used: 0 seconds\n",
            "The shortest path is:  [0, 3, 8, 1, 6, 5, 2, 7, 4]\n",
            "Distance:  391\n",
            "==============================================\n"
          ],
          "name": "stdout"
        }
      ]
    },
    {
      "cell_type": "markdown",
      "metadata": {
        "id": "zXSJVqfRbO8d"
      },
      "source": [
        "#### 9 city"
      ]
    },
    {
      "cell_type": "code",
      "metadata": {
        "colab": {
          "base_uri": "https://localhost:8080/"
        },
        "id": "yr3cKmdibS5e",
        "outputId": "8f9d3335-9307-4c61-e212-cecfbfbf5481"
      },
      "source": [
        "ResultPhase1(d_9_city, n_node_small=10, n_small=9)"
      ],
      "execution_count": null,
      "outputs": [
        {
          "output_type": "stream",
          "text": [
            "Round  1\n",
            "Genetic Algorithm\n",
            "Time used: 3 seconds\n",
            "The shortest path is:  [[0, 3, 8, 1, 6, 9, 5, 2, 7, 4]]\n",
            "Distance:  435\n",
            "----------------------------------------------\n",
            "Round  2\n",
            "Genetic Algorithm\n",
            "Time used: 3 seconds\n",
            "The shortest path is:  [[0, 4, 7, 2, 9, 5, 6, 1, 8, 3]]\n",
            "Distance:  435\n",
            "----------------------------------------------\n",
            "Round  3\n",
            "Genetic Algorithm\n",
            "Time used: 3 seconds\n",
            "The shortest path is:  [[0, 3, 8, 1, 6, 9, 5, 2, 7, 4]]\n",
            "Distance:  435\n",
            "----------------------------------------------\n",
            "Round  4\n",
            "Genetic Algorithm\n",
            "Time used: 3 seconds\n",
            "The shortest path is:  [[0, 4, 7, 2, 9, 5, 6, 1, 8, 3]]\n",
            "Distance:  435\n",
            "----------------------------------------------\n",
            "Round  5\n",
            "Genetic Algorithm\n",
            "Time used: 3 seconds\n",
            "The shortest path is:  [[0, 3, 8, 1, 6, 9, 5, 2, 7, 4]]\n",
            "Distance:  435\n",
            "----------------------------------------------\n",
            "Brute Force\n",
            "Time used: 2 seconds\n",
            "The shortest path is:  [0, 3, 8, 1, 6, 5, 9, 2, 7, 4]\n",
            "Distance:  435\n",
            "==============================================\n"
          ],
          "name": "stdout"
        }
      ]
    },
    {
      "cell_type": "markdown",
      "metadata": {
        "id": "_TS-ikj3cVs2"
      },
      "source": [
        "#### 10 city"
      ]
    },
    {
      "cell_type": "code",
      "metadata": {
        "colab": {
          "base_uri": "https://localhost:8080/"
        },
        "id": "fmI13xYYcVs2",
        "outputId": "bf39af6a-7f5a-41c4-9bc6-c31b339cc058"
      },
      "source": [
        "ResultPhase1(d_10_city, n_node_small=11, n_small=10)"
      ],
      "execution_count": null,
      "outputs": [
        {
          "output_type": "stream",
          "text": [
            "Round  1\n",
            "Genetic Algorithm\n",
            "Time used: 3 seconds\n",
            "The shortest path is:  [[0, 3, 8, 1, 6, 5, 9, 2, 7, 4, 10]]\n",
            "Distance:  627\n",
            "----------------------------------------------\n",
            "Round  2\n",
            "Genetic Algorithm\n",
            "Time used: 3 seconds\n",
            "The shortest path is:  [[0, 10, 7, 4, 2, 9, 5, 6, 1, 8, 3]]\n",
            "Distance:  627\n",
            "----------------------------------------------\n",
            "Round  3\n",
            "Genetic Algorithm\n",
            "Time used: 3 seconds\n",
            "The shortest path is:  [[0, 10, 4, 7, 2, 5, 9, 6, 1, 8, 3]]\n",
            "Distance:  627\n",
            "----------------------------------------------\n",
            "Round  4\n",
            "Genetic Algorithm\n",
            "Time used: 3 seconds\n",
            "The shortest path is:  [[0, 10, 7, 4, 2, 5, 9, 6, 1, 8, 3]]\n",
            "Distance:  627\n",
            "----------------------------------------------\n",
            "Round  5\n",
            "Genetic Algorithm\n",
            "Time used: 3 seconds\n",
            "The shortest path is:  [[0, 3, 8, 1, 6, 5, 9, 2, 4, 7, 10]]\n",
            "Distance:  627\n",
            "----------------------------------------------\n",
            "Brute Force\n",
            "Time used: 26 seconds\n",
            "The shortest path is:  [0, 3, 8, 1, 6, 5, 9, 2, 4, 7, 10]\n",
            "Distance:  627\n",
            "==============================================\n"
          ],
          "name": "stdout"
        }
      ]
    },
    {
      "cell_type": "markdown",
      "metadata": {
        "id": "BciMiZe_expN"
      },
      "source": [
        "#### 11 city"
      ]
    },
    {
      "cell_type": "code",
      "metadata": {
        "colab": {
          "base_uri": "https://localhost:8080/"
        },
        "id": "hHSVNZLyexpO",
        "outputId": "c31ffc94-5af0-4c58-bd04-916849143f11"
      },
      "source": [
        "ResultPhase1(d_11_city, n_node_small=12, n_small=11)"
      ],
      "execution_count": null,
      "outputs": [
        {
          "output_type": "stream",
          "text": [
            "Round  1\n",
            "Genetic Algorithm\n",
            "Time used: 3 seconds\n",
            "The shortest path is:  [[0, 11, 3, 8, 1, 6, 9, 5, 2, 4, 7, 10]]\n",
            "Distance:  645\n",
            "----------------------------------------------\n",
            "Round  2\n",
            "Genetic Algorithm\n",
            "Time used: 3 seconds\n",
            "The shortest path is:  [[0, 3, 11, 8, 1, 6, 9, 5, 2, 7, 4, 10]]\n",
            "Distance:  645\n",
            "----------------------------------------------\n",
            "Round  3\n",
            "Genetic Algorithm\n",
            "Time used: 3 seconds\n",
            "The shortest path is:  [[0, 10, 4, 7, 2, 11, 3, 8, 1, 6, 5, 9]]\n",
            "Distance:  595\n",
            "----------------------------------------------\n",
            "Round  4\n",
            "Genetic Algorithm\n",
            "Time used: 3 seconds\n",
            "The shortest path is:  [[0, 11, 3, 8, 1, 6, 5, 9, 2, 4, 7, 10]]\n",
            "Distance:  645\n",
            "----------------------------------------------\n",
            "Round  5\n",
            "Genetic Algorithm\n",
            "Time used: 3 seconds\n",
            "The shortest path is:  [[0, 11, 3, 8, 1, 6, 5, 9, 2, 7, 4, 10]]\n",
            "Distance:  645\n",
            "----------------------------------------------\n",
            "Brute Force\n",
            "Time used: 304 seconds\n",
            "The shortest path is:  [0, 10, 4, 7, 2, 11, 3, 8, 1, 6, 5, 9]\n",
            "Distance:  595\n",
            "==============================================\n"
          ],
          "name": "stdout"
        }
      ]
    },
    {
      "cell_type": "markdown",
      "metadata": {
        "id": "mNoBPRtTe2X5"
      },
      "source": [
        "#### 12 city"
      ]
    },
    {
      "cell_type": "code",
      "metadata": {
        "colab": {
          "base_uri": "https://localhost:8080/"
        },
        "id": "4jzz0lCfe2X5",
        "outputId": "39e9bf80-e388-4373-c1bc-c83b1b7ffa42"
      },
      "source": [
        "ResultPhase1(d_12_city, n_node_small=13, n_small=12)"
      ],
      "execution_count": null,
      "outputs": [
        {
          "output_type": "stream",
          "text": [
            "Round  1\n",
            "Genetic Algorithm\n",
            "Time used: 4 seconds\n",
            "The shortest path is:  [[0, 10, 12, 4, 7, 2, 9, 5, 6, 1, 8, 3, 11]]\n",
            "Distance:  703\n",
            "----------------------------------------------\n",
            "Round  2\n",
            "Genetic Algorithm\n",
            "Time used: 4 seconds\n",
            "The shortest path is:  [[0, 10, 12, 4, 7, 2, 5, 9, 6, 1, 8, 11, 3]]\n",
            "Distance:  703\n",
            "----------------------------------------------\n",
            "Round  3\n",
            "Genetic Algorithm\n",
            "Time used: 4 seconds\n",
            "The shortest path is:  [[0, 11, 3, 8, 1, 6, 9, 5, 2, 7, 4, 12, 10]]\n",
            "Distance:  703\n",
            "----------------------------------------------\n",
            "Round  4\n",
            "Genetic Algorithm\n",
            "Time used: 4 seconds\n",
            "The shortest path is:  [[0, 3, 11, 8, 1, 6, 5, 9, 12, 10, 7, 4, 2]]\n",
            "Distance:  712\n",
            "----------------------------------------------\n",
            "Round  5\n",
            "Genetic Algorithm\n",
            "Time used: 4 seconds\n",
            "The shortest path is:  [[0, 3, 11, 8, 1, 6, 9, 5, 2, 7, 4, 12, 10]]\n",
            "Distance:  703\n",
            "----------------------------------------------\n",
            "Brute Force\n",
            "Time used: 3963 seconds\n",
            "The shortest path is:  [0, 3, 11, 8, 1, 6, 5, 9, 2, 7, 4, 12, 10]\n",
            "Distance:  703\n",
            "==============================================\n"
          ],
          "name": "stdout"
        }
      ]
    },
    {
      "cell_type": "markdown",
      "metadata": {
        "id": "1u_bF_eOLUd0"
      },
      "source": [
        "#### Big data set, no demand constraint"
      ]
    },
    {
      "cell_type": "code",
      "metadata": {
        "colab": {
          "base_uri": "https://localhost:8080/"
        },
        "id": "i8ZJufwZLUd0",
        "scrolled": true,
        "outputId": "99f4030c-ab9a-4012-d7d0-26feebff17aa"
      },
      "source": [
        "# Big data set, no demand constraint\n",
        "x, y = genetic_algorithm(d=d_14_city, n_node=15, n=14)\n",
        "print(\"The shortest path is: \", x[-1])\n",
        "print(\"Distance: \", y[-1]) "
      ],
      "execution_count": null,
      "outputs": [
        {
          "output_type": "stream",
          "text": [
            "The shortest path is:  [[0, 10, 12, 4, 7, 2, 5, 9, 1, 8, 11, 14, 3, 13, 6]]\n",
            "Distance:  823\n"
          ],
          "name": "stdout"
        }
      ]
    },
    {
      "cell_type": "code",
      "metadata": {
        "colab": {
          "base_uri": "https://localhost:8080/"
        },
        "id": "HXBxwTMHLUd0",
        "outputId": "8e5f59aa-829d-4df8-cfeb-c75b97cf1a3e"
      },
      "source": [
        "sum_distance(d_big, x[-1][0], True)"
      ],
      "execution_count": null,
      "outputs": [
        {
          "output_type": "stream",
          "text": [
            "0 -> 3: 23.00\n",
            "Sum Distance:  23\n",
            "==========\n",
            "3 -> 14: 10.00\n",
            "Sum Distance:  33\n",
            "==========\n",
            "14 -> 11: 10.00\n",
            "Sum Distance:  43\n",
            "==========\n",
            "11 -> 8: 18.00\n",
            "Sum Distance:  61\n",
            "==========\n",
            "8 -> 1: 42.00\n",
            "Sum Distance:  103\n",
            "==========\n",
            "1 -> 6: 52.00\n",
            "Sum Distance:  155\n",
            "==========\n",
            "6 -> 5: 59.00\n",
            "Sum Distance:  214\n",
            "==========\n",
            "5 -> 9: 34.00\n",
            "Sum Distance:  248\n",
            "==========\n",
            "9 -> 2: 58.00\n",
            "Sum Distance:  306\n",
            "==========\n",
            "2 -> 7: 28.00\n",
            "Sum Distance:  334\n",
            "==========\n",
            "7 -> 0: 42.00\n",
            "Sum Distance:  376\n",
            "==========\n"
          ],
          "name": "stdout"
        },
        {
          "output_type": "execute_result",
          "data": {
            "text/plain": [
              "376"
            ]
          },
          "metadata": {
            "tags": []
          },
          "execution_count": 50
        }
      ]
    },
    {
      "cell_type": "markdown",
      "metadata": {
        "id": "lo-_bLYPLUd0"
      },
      "source": [
        "### Phase 2: Shortest path, with demand constraint"
      ]
    },
    {
      "cell_type": "code",
      "metadata": {
        "id": "rdyWLWBB8YL2"
      },
      "source": [
        "def ResultPhase2(d, n_node, w, n_path, c=999):\n",
        "  print(\"Genetic Algorithm\") \n",
        "  for i in range(0,5):\n",
        "    print(\"Round \",i+1)\n",
        "    stime = time.time()\n",
        "    x, y = genetic_algorithm(d=d, n_node=n_node, w=w, n_path=n_path, c=c)\n",
        "    print(\"Time used: %.0f seconds\" % ( time.time() - stime))\n",
        "    print(\"The shortest path is: \", x[-1])\n",
        "    print(\"Distance: \", y[-1]) \n",
        "    print(\"----------------------------------------------\") "
      ],
      "execution_count": null,
      "outputs": []
    },
    {
      "cell_type": "code",
      "metadata": {
        "id": "PXgS_rPwnBl6"
      },
      "source": [
        "def ResulฺtBruteForcePhase2(d, n_node, w, n_path, c=999):\n",
        "    print(\"Brute Force\") \n",
        "    stime = time.time()\n",
        "    x = brute_force(d=d, n_node=n_node, w=w, n_path=n_path, c=c)\n",
        "    print(\"Time used: %.0f seconds\" % ( time.time() - stime))\n",
        "    print(\"The shortest path is: \", x[1])\n",
        "    print(\"Distance: \", x[0]) \n",
        "    print(\"==============================================\") "
      ],
      "execution_count": null,
      "outputs": []
    },
    {
      "cell_type": "markdown",
      "metadata": {
        "id": "gDKEgP7OZn0v"
      },
      "source": [
        "#### 8 city"
      ]
    },
    {
      "cell_type": "code",
      "metadata": {
        "colab": {
          "base_uri": "https://localhost:8080/"
        },
        "id": "Zvt0tbBaVBtZ",
        "outputId": "d9bd408e-1e73-4e77-e8e7-005ee0f94045"
      },
      "source": [
        "ResultPhase2(d=d_8_city, n_node=9, w=w1_8, n_path=2, c=4)"
      ],
      "execution_count": null,
      "outputs": [
        {
          "output_type": "stream",
          "text": [
            "Genetic Algorithm\n",
            "Round  1\n",
            "Time used: 4 seconds\n",
            "The shortest path is:  [[0, 4, 7, 2, 5], [0, 6]]\n",
            "Distance:  245\n",
            "----------------------------------------------\n",
            "Round  2\n",
            "Time used: 4 seconds\n",
            "The shortest path is:  [[0, 4, 7, 2, 5], [0, 6]]\n",
            "Distance:  245\n",
            "----------------------------------------------\n",
            "Round  3\n",
            "Time used: 4 seconds\n",
            "The shortest path is:  [[0, 4, 7, 2, 5], [0, 6]]\n",
            "Distance:  245\n",
            "----------------------------------------------\n",
            "Round  4\n",
            "Time used: 4 seconds\n",
            "The shortest path is:  [[0, 4, 2, 5], [0, 6]]\n",
            "Distance:  235\n",
            "----------------------------------------------\n",
            "Round  5\n",
            "Time used: 4 seconds\n",
            "The shortest path is:  [[0, 4, 2, 5], [0, 6]]\n",
            "Distance:  235\n",
            "----------------------------------------------\n"
          ],
          "name": "stdout"
        }
      ]
    },
    {
      "cell_type": "code",
      "metadata": {
        "colab": {
          "base_uri": "https://localhost:8080/"
        },
        "id": "vRzwJlNYmvna",
        "outputId": "87ffe04d-e4b1-4130-9273-57d19587e035"
      },
      "source": [
        "ResulฺtBruteForcePhase2(d=d_8_city, n_node=9, w=w1_8, n_path=2, c=4)"
      ],
      "execution_count": null,
      "outputs": [
        {
          "output_type": "stream",
          "text": [
            "Brute Force\n",
            "Time used: 0 seconds\n",
            "The shortest path is:  [[0, 4, 2, 5], [0, 6]]\n",
            "Distance:  235\n",
            "==============================================\n"
          ],
          "name": "stdout"
        }
      ]
    },
    {
      "cell_type": "code",
      "metadata": {
        "colab": {
          "base_uri": "https://localhost:8080/"
        },
        "id": "uq_xX0AbZ-2u",
        "outputId": "215dd9c9-6a4d-4dc1-8b9b-5899bafa8644"
      },
      "source": [
        "ResultPhase2(d=d_8_city, n_node=9, w=w2_8, n_path=2, c=4)"
      ],
      "execution_count": null,
      "outputs": [
        {
          "output_type": "stream",
          "text": [
            "Genetic Algorithm\n",
            "Round  1\n",
            "Time used: 4 seconds\n",
            "The shortest path is:  [[0, 6, 5, 2, 7, 4], [0, 3, 8, 1]]\n",
            "Distance:  365\n",
            "----------------------------------------------\n",
            "Round  2\n",
            "Time used: 4 seconds\n",
            "The shortest path is:  [[0, 6, 5, 2, 7, 4], [0, 1, 8, 3]]\n",
            "Distance:  365\n",
            "----------------------------------------------\n",
            "Round  3\n",
            "Time used: 4 seconds\n",
            "The shortest path is:  [[0, 4, 7, 2, 5, 6], [0, 1, 8, 3]]\n",
            "Distance:  365\n",
            "----------------------------------------------\n",
            "Round  4\n",
            "Time used: 4 seconds\n",
            "The shortest path is:  [[0, 4, 7, 2, 5, 6], [0, 3, 8, 1]]\n",
            "Distance:  365\n",
            "----------------------------------------------\n",
            "Round  5\n",
            "Time used: 4 seconds\n",
            "The shortest path is:  [[0, 6, 5, 2, 7, 4], [0, 1, 8, 3]]\n",
            "Distance:  365\n",
            "----------------------------------------------\n"
          ],
          "name": "stdout"
        }
      ]
    },
    {
      "cell_type": "code",
      "metadata": {
        "colab": {
          "base_uri": "https://localhost:8080/"
        },
        "id": "SkhTWZIOnVaA",
        "outputId": "c77880e4-76bd-42df-8825-82f0f682a1df"
      },
      "source": [
        "ResulฺtBruteForcePhase2(d=d_8_city, n_node=9, w=w2_8, n_path=2, c=4)"
      ],
      "execution_count": null,
      "outputs": [
        {
          "output_type": "stream",
          "text": [
            "Brute Force\n",
            "Time used: 1 seconds\n",
            "The shortest path is:  [[0, 4, 7, 2, 5, 6], [0, 1, 8, 3]]\n",
            "Distance:  365\n",
            "==============================================\n"
          ],
          "name": "stdout"
        }
      ]
    },
    {
      "cell_type": "markdown",
      "metadata": {
        "id": "8w8f04LoaFP7"
      },
      "source": [
        "#### 9 city"
      ]
    },
    {
      "cell_type": "code",
      "metadata": {
        "colab": {
          "base_uri": "https://localhost:8080/"
        },
        "id": "DV80uRXhaFP7",
        "outputId": "1c6c61bc-5e12-46b0-f918-f5e3e9581289"
      },
      "source": [
        "ResultPhase2(d=d_9_city, n_node=10, w=w1_9, n_path=2,c=4)"
      ],
      "execution_count": null,
      "outputs": [
        {
          "output_type": "stream",
          "text": [
            "Genetic Algorithm\n",
            "Round  1\n",
            "Time used: 4 seconds\n",
            "The shortest path is:  [[0, 9, 5, 2, 4], [0, 6]]\n",
            "Distance:  274\n",
            "----------------------------------------------\n",
            "Round  2\n",
            "Time used: 4 seconds\n",
            "The shortest path is:  [[0, 9, 5, 2, 4], [0, 6]]\n",
            "Distance:  274\n",
            "----------------------------------------------\n",
            "Round  3\n",
            "Time used: 4 seconds\n",
            "The shortest path is:  [[0, 9, 5, 2, 7, 4], [0, 6]]\n",
            "Distance:  284\n",
            "----------------------------------------------\n",
            "Round  4\n",
            "Time used: 4 seconds\n",
            "The shortest path is:  [[0, 4, 7, 2, 5, 9], [0, 6]]\n",
            "Distance:  284\n",
            "----------------------------------------------\n",
            "Round  5\n",
            "Time used: 4 seconds\n",
            "The shortest path is:  [[0, 9, 5, 2, 4], [0, 6]]\n",
            "Distance:  274\n",
            "----------------------------------------------\n"
          ],
          "name": "stdout"
        }
      ]
    },
    {
      "cell_type": "code",
      "metadata": {
        "colab": {
          "base_uri": "https://localhost:8080/"
        },
        "id": "IqaKJKUbnkqj",
        "outputId": "1ebb1a5d-4db4-427a-8e29-f8e4491fbf71"
      },
      "source": [
        "ResulฺtBruteForcePhase2(d=d_9_city, n_node=10, w=w1_9, n_path=2, c=4)"
      ],
      "execution_count": null,
      "outputs": [
        {
          "output_type": "stream",
          "text": [
            "Brute Force\n",
            "Time used: 4 seconds\n",
            "The shortest path is:  [[0, 4, 2, 5, 9], [0, 6]]\n",
            "Distance:  274\n",
            "==============================================\n"
          ],
          "name": "stdout"
        }
      ]
    },
    {
      "cell_type": "code",
      "metadata": {
        "colab": {
          "base_uri": "https://localhost:8080/"
        },
        "id": "oEjoAhBSaFP8",
        "outputId": "780687ce-a976-4ac0-9724-295200b253c3"
      },
      "source": [
        "ResultPhase2(d=d_9_city, n_node=10, w=w2_9, n_path=2,c=4)"
      ],
      "execution_count": null,
      "outputs": [
        {
          "output_type": "stream",
          "text": [
            "Genetic Algorithm\n",
            "Round  1\n",
            "Time used: 4 seconds\n",
            "The shortest path is:  [[0, 4, 7, 2, 5, 6], [0, 3, 8, 1, 9]]\n",
            "Distance:  438\n",
            "----------------------------------------------\n",
            "Round  2\n",
            "Time used: 4 seconds\n",
            "The shortest path is:  [[0, 4, 7, 2, 1, 8, 3], [0, 6, 5, 9]]\n",
            "Distance:  438\n",
            "----------------------------------------------\n",
            "Round  3\n",
            "Time used: 4 seconds\n",
            "The shortest path is:  [[0, 9, 1, 8, 3], [0, 4, 7, 2, 5, 6]]\n",
            "Distance:  438\n",
            "----------------------------------------------\n",
            "Round  4\n",
            "Time used: 4 seconds\n",
            "The shortest path is:  [[0, 4, 7, 2, 1, 8, 3], [0, 6, 5, 9]]\n",
            "Distance:  438\n",
            "----------------------------------------------\n",
            "Round  5\n",
            "Time used: 4 seconds\n",
            "The shortest path is:  [[0, 9, 5, 6], [0, 4, 7, 2, 1, 8, 3]]\n",
            "Distance:  438\n",
            "----------------------------------------------\n"
          ],
          "name": "stdout"
        }
      ]
    },
    {
      "cell_type": "code",
      "metadata": {
        "colab": {
          "base_uri": "https://localhost:8080/"
        },
        "id": "Ni5o_dPvnoUB",
        "outputId": "b514aff3-7ba0-46bd-ad0d-cfbffb0aa200"
      },
      "source": [
        "ResulฺtBruteForcePhase2(d=d_9_city, n_node=10, w=w2_9, n_path=2, c=4)"
      ],
      "execution_count": null,
      "outputs": [
        {
          "output_type": "stream",
          "text": [
            "Brute Force\n",
            "Time used: 5 seconds\n",
            "The shortest path is:  [[0, 3, 8, 1, 2, 7, 4], [0, 6, 5, 9]]\n",
            "Distance:  438\n",
            "==============================================\n"
          ],
          "name": "stdout"
        }
      ]
    },
    {
      "cell_type": "markdown",
      "metadata": {
        "id": "G7fuL5bua_JC"
      },
      "source": [
        "#### 10 city"
      ]
    },
    {
      "cell_type": "code",
      "metadata": {
        "colab": {
          "base_uri": "https://localhost:8080/"
        },
        "id": "d45Worsda_JC",
        "outputId": "78454c92-d65d-4753-9cd0-2659b1d3e0df"
      },
      "source": [
        "ResultPhase2(d=d_10_city, n_node=11, w=w1_10, n_path=2,c=4)"
      ],
      "execution_count": null,
      "outputs": [
        {
          "output_type": "stream",
          "text": [
            "Genetic Algorithm\n",
            "Round  1\n",
            "Time used: 4 seconds\n",
            "The shortest path is:  [[0, 10, 4, 2, 5, 9], [0, 6]]\n",
            "Distance:  466\n",
            "----------------------------------------------\n",
            "Round  2\n",
            "Time used: 4 seconds\n",
            "The shortest path is:  [[0, 10, 4, 2, 5, 9], [0, 6]]\n",
            "Distance:  466\n",
            "----------------------------------------------\n",
            "Round  3\n",
            "Time used: 4 seconds\n",
            "The shortest path is:  [[0, 9, 5, 2, 4, 7, 10], [0, 6]]\n",
            "Distance:  476\n",
            "----------------------------------------------\n",
            "Round  4\n",
            "Time used: 4 seconds\n",
            "The shortest path is:  [[0, 9, 5, 2, 4, 10], [0, 6]]\n",
            "Distance:  466\n",
            "----------------------------------------------\n",
            "Round  5\n",
            "Time used: 4 seconds\n",
            "The shortest path is:  [[0, 9, 5, 2, 7, 4, 10], [0, 6]]\n",
            "Distance:  476\n",
            "----------------------------------------------\n"
          ],
          "name": "stdout"
        }
      ]
    },
    {
      "cell_type": "code",
      "metadata": {
        "colab": {
          "base_uri": "https://localhost:8080/"
        },
        "id": "xDPhPjE5nvJm",
        "outputId": "c774c710-2d4a-4b53-bf86-4b28a580ecb3"
      },
      "source": [
        "ResulฺtBruteForcePhase2(d=d_10_city, n_node=11, w=w1_10, n_path=2, c=4)"
      ],
      "execution_count": null,
      "outputs": [
        {
          "output_type": "stream",
          "text": [
            "Brute Force\n",
            "Time used: 50 seconds\n",
            "The shortest path is:  [[0, 9, 5, 2, 4, 10], [0, 6]]\n",
            "Distance:  466\n",
            "==============================================\n"
          ],
          "name": "stdout"
        }
      ]
    },
    {
      "cell_type": "code",
      "metadata": {
        "colab": {
          "base_uri": "https://localhost:8080/"
        },
        "id": "XSdOIz4Qa_JD",
        "outputId": "b6337816-b26e-43f7-ecd1-72c1399fd541"
      },
      "source": [
        "ResultPhase2(d=d_10_city, n_node=11, w=w2_10, n_path=2,c=5)"
      ],
      "execution_count": null,
      "outputs": [
        {
          "output_type": "stream",
          "text": [
            "Genetic Algorithm\n",
            "Round  1\n",
            "Time used: 4 seconds\n",
            "The shortest path is:  [[0, 9, 2, 7, 4, 10], [0, 6, 5, 1, 8, 3]]\n",
            "Distance:  630\n",
            "----------------------------------------------\n",
            "Round  2\n",
            "Time used: 4 seconds\n",
            "The shortest path is:  [[0, 3, 8, 1, 6, 5, 9], [0, 2, 4, 7, 10]]\n",
            "Distance:  618\n",
            "----------------------------------------------\n",
            "Round  3\n",
            "Time used: 4 seconds\n",
            "The shortest path is:  [[0, 9, 5, 6, 1, 8, 3], [0, 10, 4, 7, 2]]\n",
            "Distance:  618\n",
            "----------------------------------------------\n",
            "Round  4\n",
            "Time used: 4 seconds\n",
            "The shortest path is:  [[0, 10, 4, 7, 2, 5], [0, 9, 6, 1, 8, 3]]\n",
            "Distance:  630\n",
            "----------------------------------------------\n",
            "Round  5\n",
            "Time used: 4 seconds\n",
            "The shortest path is:  [[0, 10, 7, 4, 2, 5, 1, 8, 3], [0, 6, 9]]\n",
            "Distance:  630\n",
            "----------------------------------------------\n"
          ],
          "name": "stdout"
        }
      ]
    },
    {
      "cell_type": "code",
      "metadata": {
        "colab": {
          "base_uri": "https://localhost:8080/"
        },
        "id": "H83ff6usn1RI",
        "outputId": "a567dfcb-2d84-4ef8-fc99-43e74f7cd439"
      },
      "source": [
        "ResulฺtBruteForcePhase2(d=d_10_city, n_node=11, w=w2_10, n_path=2, c=5)"
      ],
      "execution_count": null,
      "outputs": [
        {
          "output_type": "stream",
          "text": [
            "Brute Force\n",
            "Time used: 63 seconds\n",
            "The shortest path is:  [[0, 3, 8, 1, 6, 5, 9], [0, 2, 4, 7, 10]]\n",
            "Distance:  618\n",
            "==============================================\n"
          ],
          "name": "stdout"
        }
      ]
    },
    {
      "cell_type": "markdown",
      "metadata": {
        "id": "ACKD34dZbxOk"
      },
      "source": [
        "#### 11 city"
      ]
    },
    {
      "cell_type": "code",
      "metadata": {
        "colab": {
          "base_uri": "https://localhost:8080/"
        },
        "id": "IvlOJFI7bxOk",
        "outputId": "72c7e290-8d30-4fd7-aebe-30dfcb53dbeb"
      },
      "source": [
        "ResultPhase2(d=d_11_city, n_node=12, w=w1_11, n_path=2,c=4)"
      ],
      "execution_count": null,
      "outputs": [
        {
          "output_type": "stream",
          "text": [
            "Genetic Algorithm\n",
            "Round  1\n",
            "Time used: 4 seconds\n",
            "The shortest path is:  [[0, 10, 4, 2, 11], [0, 6, 5, 9]]\n",
            "Distance:  494\n",
            "----------------------------------------------\n",
            "Round  2\n",
            "Time used: 4 seconds\n",
            "The shortest path is:  [[0, 10, 4, 2, 11], [0, 6, 5, 9]]\n",
            "Distance:  494\n",
            "----------------------------------------------\n",
            "Round  3\n",
            "Time used: 4 seconds\n",
            "The shortest path is:  [[0, 10, 4, 2, 11, 8], [0, 6, 5, 9]]\n",
            "Distance:  505\n",
            "----------------------------------------------\n",
            "Round  4\n",
            "Time used: 4 seconds\n",
            "The shortest path is:  [[0, 10, 9, 5, 6], [0, 4, 7, 2, 11, 8]]\n",
            "Distance:  559\n",
            "----------------------------------------------\n",
            "Round  5\n",
            "Time used: 4 seconds\n",
            "The shortest path is:  [[0, 2, 11, 8, 6], [0, 5, 9, 4, 10]]\n",
            "Distance:  575\n",
            "----------------------------------------------\n"
          ],
          "name": "stdout"
        }
      ]
    },
    {
      "cell_type": "code",
      "metadata": {
        "colab": {
          "base_uri": "https://localhost:8080/"
        },
        "id": "ywpWc4PaoMXR",
        "outputId": "fbf19027-f30c-4e17-934d-b5b7ed15158a"
      },
      "source": [
        "ResulฺtBruteForcePhase2(d=d_11_city, n_node=12, w=w1_11, n_path=2, c=4)"
      ],
      "execution_count": null,
      "outputs": [
        {
          "output_type": "stream",
          "text": [
            "Brute Force\n",
            "Time used: 602 seconds\n",
            "The shortest path is:  [[0, 10, 4, 2, 11], [0, 6, 5, 9]]\n",
            "Distance:  494\n",
            "==============================================\n"
          ],
          "name": "stdout"
        }
      ]
    },
    {
      "cell_type": "code",
      "metadata": {
        "colab": {
          "base_uri": "https://localhost:8080/"
        },
        "id": "VWEpGfdmbxOl",
        "outputId": "17747e8f-0531-4009-a147-cf0c046f1dc2"
      },
      "source": [
        "ResultPhase2(d=d_11_city, n_node=12, w=w2_11, n_path=2,c=5)"
      ],
      "execution_count": null,
      "outputs": [
        {
          "output_type": "stream",
          "text": [
            "Genetic Algorithm\n",
            "Round  1\n",
            "Time used: 4 seconds\n",
            "The shortest path is:  [[0, 10, 4, 7, 5, 9], [0, 2, 11, 3, 8, 1, 6]]\n",
            "Distance:  628\n",
            "----------------------------------------------\n",
            "Round  2\n",
            "Time used: 4 seconds\n",
            "The shortest path is:  [[0, 4, 7, 2, 11, 3, 8, 1], [0, 6, 9, 5, 10]]\n",
            "Distance:  613\n",
            "----------------------------------------------\n",
            "Round  3\n",
            "Time used: 4 seconds\n",
            "The shortest path is:  [[0, 10, 4, 7, 2, 11, 3, 8, 1], [0, 9, 5, 6]]\n",
            "Distance:  569\n",
            "----------------------------------------------\n",
            "Round  4\n",
            "Time used: 4 seconds\n",
            "The shortest path is:  [[0, 9, 5, 6, 1, 8, 3], [0, 10, 4, 7, 2, 11]]\n",
            "Distance:  623\n",
            "----------------------------------------------\n",
            "Round  5\n",
            "Time used: 4 seconds\n",
            "The shortest path is:  [[0, 10, 7, 4, 2, 11, 3, 8, 1], [0, 6, 5, 9]]\n",
            "Distance:  569\n",
            "----------------------------------------------\n"
          ],
          "name": "stdout"
        }
      ]
    },
    {
      "cell_type": "code",
      "metadata": {
        "colab": {
          "base_uri": "https://localhost:8080/"
        },
        "id": "QW7RyZNloR6j",
        "outputId": "631cad17-b7c4-46ad-8713-69da42725d14"
      },
      "source": [
        "ResulฺtBruteForcePhase2(d=d_11_city, n_node=12, w=w2_11, n_path=2, c=5)"
      ],
      "execution_count": null,
      "outputs": [
        {
          "output_type": "stream",
          "text": [
            "Brute Force\n",
            "Time used: 745 seconds\n",
            "The shortest path is:  [[0, 10, 4, 7, 2, 11, 3, 8, 1], [0, 6, 5, 9]]\n",
            "Distance:  569\n",
            "==============================================\n"
          ],
          "name": "stdout"
        }
      ]
    },
    {
      "cell_type": "markdown",
      "metadata": {
        "id": "RV3Vr2qTQnOZ"
      },
      "source": [
        "#### 12 city"
      ]
    },
    {
      "cell_type": "code",
      "metadata": {
        "colab": {
          "base_uri": "https://localhost:8080/"
        },
        "id": "yLqvU8fRQriv",
        "outputId": "ded6046e-88e7-4259-bf9b-f2981bb0efa4"
      },
      "source": [
        "ResultPhase2(d=d_12_city, n_node=13, w=w1_12, n_path=2,c=4)"
      ],
      "execution_count": null,
      "outputs": [
        {
          "output_type": "stream",
          "text": [
            "Genetic Algorithm\n",
            "Round  1\n",
            "Time used: 4 seconds\n",
            "The shortest path is:  [[0, 9, 5, 2, 7, 4, 10], [0, 6, 11]]\n",
            "Distance:  565\n",
            "----------------------------------------------\n",
            "Round  2\n",
            "Time used: 4 seconds\n",
            "The shortest path is:  [[0, 11, 3, 6, 9], [0, 5, 2, 4, 10]]\n",
            "Distance:  608\n",
            "----------------------------------------------\n",
            "Round  3\n",
            "Time used: 4 seconds\n",
            "The shortest path is:  [[0, 9, 5, 2, 7, 4, 10], [0, 6, 8, 11, 3]]\n",
            "Distance:  583\n",
            "----------------------------------------------\n",
            "Round  4\n",
            "Time used: 4 seconds\n",
            "The shortest path is:  [[0, 9, 5, 2, 7, 4, 10], [0, 6, 1, 8, 11]]\n",
            "Distance:  595\n",
            "----------------------------------------------\n",
            "Round  5\n",
            "Time used: 4 seconds\n",
            "The shortest path is:  [[0, 11, 8, 6, 5], [0, 9, 2, 4, 10]]\n",
            "Distance:  590\n",
            "----------------------------------------------\n"
          ],
          "name": "stdout"
        }
      ]
    },
    {
      "cell_type": "code",
      "metadata": {
        "colab": {
          "background_save": true,
          "base_uri": "https://localhost:8080/"
        },
        "id": "ImIJ_YnLogMu",
        "outputId": "476f3a7a-31a2-4631-8440-e19f1ac426d5"
      },
      "source": [
        "ResulฺtBruteForcePhase2(d=d_12_city, n_node=13, w=w1_12, n_path=2, c=4)"
      ],
      "execution_count": null,
      "outputs": [
        {
          "output_type": "stream",
          "text": [
            "Brute Force\n",
            "Time used: 7325 seconds\n",
            "The shortest path is:  [[0, 9, 5, 2, 4, 10], [0, 6, 8, 11]]\n",
            "Distance:  555\n",
            "==============================================\n"
          ],
          "name": "stdout"
        }
      ]
    },
    {
      "cell_type": "code",
      "metadata": {
        "colab": {
          "base_uri": "https://localhost:8080/"
        },
        "id": "xFm8S_kGQv9Q",
        "outputId": "14104ad4-4330-4d91-ec37-7a295b83121d"
      },
      "source": [
        "ResultPhase2(d=d_12_city, n_node=13, w=w2_12, n_path=2,c=5)"
      ],
      "execution_count": null,
      "outputs": [
        {
          "output_type": "stream",
          "text": [
            "Genetic Algorithm\n",
            "Round  1\n",
            "Time used: 4 seconds\n",
            "The shortest path is:  [[0, 4, 7, 2, 5, 9], [0, 3, 11, 8, 1, 6, 12, 10]]\n",
            "Distance:  697\n",
            "----------------------------------------------\n",
            "Round  2\n",
            "Time used: 4 seconds\n",
            "The shortest path is:  [[0, 4, 7, 2, 5, 12, 10], [0, 9, 6, 1, 8, 11, 3]]\n",
            "Distance:  697\n",
            "----------------------------------------------\n",
            "Round  3\n",
            "Time used: 4 seconds\n",
            "The shortest path is:  [[0, 11, 3, 8, 1, 6, 5, 12, 10], [0, 9, 2, 7, 4]]\n",
            "Distance:  697\n",
            "----------------------------------------------\n",
            "Round  4\n",
            "Time used: 4 seconds\n",
            "The shortest path is:  [[0, 3, 11, 8, 1, 6, 5, 12, 10], [0, 9, 2, 7, 4]]\n",
            "Distance:  697\n",
            "----------------------------------------------\n",
            "Round  5\n",
            "Time used: 4 seconds\n",
            "The shortest path is:  [[0, 3, 11, 8, 1, 6, 5, 12, 10], [0, 9, 2, 7, 4]]\n",
            "Distance:  697\n",
            "----------------------------------------------\n"
          ],
          "name": "stdout"
        }
      ]
    },
    {
      "cell_type": "code",
      "metadata": {
        "colab": {
          "base_uri": "https://localhost:8080/"
        },
        "id": "nzBsHQIdKzFh",
        "outputId": "d571fd36-c1e9-4df5-ace8-37c531f75691"
      },
      "source": [
        "ResulฺtBruteForcePhase2(d=d_12_city, n_node=13, w=w2_12, n_path=2, c=5)"
      ],
      "execution_count": null,
      "outputs": [
        {
          "output_type": "stream",
          "text": [
            "Brute Force\n",
            "Time used: 9265 seconds\n",
            "The shortest path is:  [[0, 3, 11, 8, 1, 6, 5, 12, 10], [0, 9, 2, 7, 4]]\n",
            "Distance:  697\n",
            "==============================================\n"
          ],
          "name": "stdout"
        }
      ]
    },
    {
      "cell_type": "markdown",
      "metadata": {
        "id": "ih5Lx3O0LUd0"
      },
      "source": [
        "#### Big data set, with first demand constraint"
      ]
    },
    {
      "cell_type": "code",
      "metadata": {
        "colab": {
          "base_uri": "https://localhost:8080/"
        },
        "id": "dUvgoNGBLUd1",
        "outputId": "fe524009-6eac-4870-9f74-0b59dd102560"
      },
      "source": [
        "# Big data set, with demand constraint\n",
        "x, y = genetic_algorithm(d=d_14_city, n_node=n_node_big, w=w1_14, n_path=n_path, c=c_big)\n",
        "print(\"The shortest path is: \", x[-1])\n",
        "print(\"Distance: \", y[-1]) "
      ],
      "execution_count": null,
      "outputs": [
        {
          "output_type": "stream",
          "text": [
            "The shortest path is:  [[0, 11, 14, 8, 13, 6, 5, 12, 10], [0, 9, 2, 7, 4]]\n",
            "Distance:  781\n"
          ],
          "name": "stdout"
        }
      ]
    },
    {
      "cell_type": "code",
      "metadata": {
        "id": "rEU80ZhRONUO"
      },
      "source": [
        "brute_force(d=d_big, n_node=n_node_big, w=w1, n_path=n_path, c=c_big)"
      ],
      "execution_count": null,
      "outputs": []
    },
    {
      "cell_type": "code",
      "metadata": {
        "colab": {
          "base_uri": "https://localhost:8080/"
        },
        "id": "ScXxaOAoLUd1",
        "scrolled": false,
        "outputId": "8183a8c6-0352-45e0-f350-4214b1374619"
      },
      "source": [
        "print(\"============ First Path =============\")\n",
        "d1 = sum_distance(d_14_city,x[-1][0],True)\n",
        "print(\"============ Second Path =============\")\n",
        "d2 = sum_distance(d_14_city,x[-1][1],True)\n",
        "print(\"======================================\")\n",
        "print(\"Distance: %.02lf\" % (d1+d2))\n",
        "print(\"======================================\")"
      ],
      "execution_count": null,
      "outputs": [
        {
          "output_type": "stream",
          "text": [
            "============ First Path =============\n",
            "0 -> 11: 23.00\n",
            "Sum Distance:  23\n",
            "==========\n",
            "11 -> 14: 10.00\n",
            "Sum Distance:  33\n",
            "==========\n",
            "14 -> 8: 18.00\n",
            "Sum Distance:  51\n",
            "==========\n",
            "8 -> 13: 112.00\n",
            "Sum Distance:  163\n",
            "==========\n",
            "13 -> 6: 74.00\n",
            "Sum Distance:  237\n",
            "==========\n",
            "6 -> 5: 59.00\n",
            "Sum Distance:  296\n",
            "==========\n",
            "5 -> 12: 62.00\n",
            "Sum Distance:  358\n",
            "==========\n",
            "12 -> 10: 110.00\n",
            "Sum Distance:  468\n",
            "==========\n",
            "10 -> 0: 85.00\n",
            "Sum Distance:  553\n",
            "==========\n",
            "============ Second Path =============\n",
            "0 -> 9: 21.00\n",
            "Sum Distance:  21\n",
            "==========\n",
            "9 -> 2: 58.00\n",
            "Sum Distance:  79\n",
            "==========\n",
            "2 -> 7: 28.00\n",
            "Sum Distance:  107\n",
            "==========\n",
            "7 -> 4: 56.00\n",
            "Sum Distance:  163\n",
            "==========\n",
            "4 -> 0: 65.00\n",
            "Sum Distance:  228\n",
            "==========\n",
            "======================================\n",
            "Distance: 781.00\n",
            "======================================\n"
          ],
          "name": "stdout"
        }
      ]
    },
    {
      "cell_type": "code",
      "metadata": {
        "colab": {
          "base_uri": "https://localhost:8080/"
        },
        "id": "7zzGkSoQLUd1",
        "scrolled": false,
        "outputId": "7be5ff7c-926c-404d-c862-382dbb9614c6"
      },
      "source": [
        "print(\"============ First Path =============\")\n",
        "d1 = sum_demand(w1,x[-1][0],True)\n",
        "print(\"============ Second Path =============\")\n",
        "d2 = sum_demand(w1,x[-1][1],True)\n",
        "print(\"======================================\")\n",
        "print(\"All demand: \", sum_demand(w1))\n",
        "print(\"Demand: %.02lf\" % (d1+d2))\n",
        "print(\"======================================\")"
      ],
      "execution_count": null,
      "outputs": [
        {
          "output_type": "stream",
          "text": [
            "============ First Path =============\n",
            "Node: 0\n",
            "Demand: 0.00\n",
            "Sum Demand: 0.00\n",
            "==========\n",
            "Node: 11\n",
            "Demand: 1.00\n",
            "Sum Demand: 1.00\n",
            "==========\n",
            "Node: 14\n",
            "Demand: 0.40\n",
            "Sum Demand: 1.40\n",
            "==========\n",
            "Node: 13\n",
            "Demand: 0.60\n",
            "Sum Demand: 2.00\n",
            "==========\n",
            "Node: 6\n",
            "Demand: 1.50\n",
            "Sum Demand: 3.50\n",
            "==========\n",
            "Node: 5\n",
            "Demand: 1.30\n",
            "Sum Demand: 4.80\n",
            "==========\n",
            "============ Second Path =============\n",
            "Node: 0\n",
            "Demand: 0.00\n",
            "Sum Demand: 0.00\n",
            "==========\n",
            "Node: 9\n",
            "Demand: 0.30\n",
            "Sum Demand: 0.30\n",
            "==========\n",
            "Node: 2\n",
            "Demand: 0.80\n",
            "Sum Demand: 1.10\n",
            "==========\n",
            "Node: 7\n",
            "Demand: 0.00\n",
            "Sum Demand: 1.10\n",
            "==========\n",
            "Node: 4\n",
            "Demand: 0.90\n",
            "Sum Demand: 2.00\n",
            "==========\n",
            "Node: 10\n",
            "Demand: 0.20\n",
            "Sum Demand: 2.20\n",
            "==========\n",
            "======================================\n",
            "All demand:  7.0\n",
            "Demand: 7.00\n",
            "======================================\n"
          ],
          "name": "stdout"
        }
      ]
    },
    {
      "cell_type": "markdown",
      "metadata": {
        "id": "aSx6h6fzLUd1"
      },
      "source": [
        "#### Big data set with second demand constraint"
      ]
    },
    {
      "cell_type": "code",
      "metadata": {
        "id": "BiGxuvIULUd1",
        "scrolled": true,
        "colab": {
          "base_uri": "https://localhost:8080/"
        },
        "outputId": "d8593155-ddc2-4bb0-cbc9-8b13c01ba736"
      },
      "source": [
        "# Big data set, with another demand constraint\n",
        "x, y = genetic_algorithm(d=d_14_city, n_node=15, w=w2_14, n_path=2, c=5)\n",
        "print(\"The shortest path is: \", x[-1])\n",
        "print(\"Distance: \", y[-1]) "
      ],
      "execution_count": null,
      "outputs": [
        {
          "output_type": "stream",
          "text": [
            "The shortest path is:  [[0, 3, 14, 11, 8, 1, 5, 9, 12, 10], [0, 4, 7, 2, 6, 13]]\n",
            "Distance:  832\n"
          ],
          "name": "stdout"
        }
      ]
    },
    {
      "cell_type": "code",
      "metadata": {
        "id": "zEbZo2diLUd1",
        "colab": {
          "base_uri": "https://localhost:8080/"
        },
        "outputId": "56a62a29-a8b6-4b8e-b36e-763a34d4a671"
      },
      "source": [
        "print(\"============ First Path =============\")\n",
        "d1 = sum_distance(d_14_city,x[-1][0],True)\n",
        "print(\"============ Second Path =============\")\n",
        "d2 = sum_distance(d_14_city,x[-1][1],True)\n",
        "print(\"======================================\")\n",
        "print(\"Distance: %.02lf\" % (d1+d2))\n",
        "print(\"======================================\")"
      ],
      "execution_count": null,
      "outputs": [
        {
          "output_type": "stream",
          "text": [
            "============ First Path =============\n",
            "0 -> 3: 23.00\n",
            "Sum Distance:  23\n",
            "==========\n",
            "3 -> 14: 10.00\n",
            "Sum Distance:  33\n",
            "==========\n",
            "14 -> 11: 10.00\n",
            "Sum Distance:  43\n",
            "==========\n",
            "11 -> 8: 18.00\n",
            "Sum Distance:  61\n",
            "==========\n",
            "8 -> 1: 42.00\n",
            "Sum Distance:  103\n",
            "==========\n",
            "1 -> 5: 52.00\n",
            "Sum Distance:  155\n",
            "==========\n",
            "5 -> 9: 34.00\n",
            "Sum Distance:  189\n",
            "==========\n",
            "9 -> 12: 72.00\n",
            "Sum Distance:  261\n",
            "==========\n",
            "12 -> 10: 110.00\n",
            "Sum Distance:  371\n",
            "==========\n",
            "10 -> 0: 85.00\n",
            "Sum Distance:  456\n",
            "==========\n",
            "============ Second Path =============\n",
            "0 -> 4: 65.00\n",
            "Sum Distance:  65\n",
            "==========\n",
            "4 -> 7: 56.00\n",
            "Sum Distance:  121\n",
            "==========\n",
            "7 -> 2: 28.00\n",
            "Sum Distance:  149\n",
            "==========\n",
            "2 -> 6: 83.00\n",
            "Sum Distance:  232\n",
            "==========\n",
            "6 -> 13: 74.00\n",
            "Sum Distance:  306\n",
            "==========\n",
            "13 -> 0: 70.00\n",
            "Sum Distance:  376\n",
            "==========\n",
            "======================================\n",
            "Distance: 832.00\n",
            "======================================\n"
          ],
          "name": "stdout"
        }
      ]
    },
    {
      "cell_type": "code",
      "metadata": {
        "id": "jdG4wC8eLUd2",
        "colab": {
          "base_uri": "https://localhost:8080/"
        },
        "outputId": "ef8052d7-02c2-4386-d48d-cc6215549e1c"
      },
      "source": [
        "print(\"============ First Path =============\")\n",
        "d1 = sum_demand(w2_14,x[-1][0],True)\n",
        "print(\"============ Second Path =============\")\n",
        "d2 = sum_demand(w2_14,x[-1][1],True)\n",
        "print(\"======================================\")\n",
        "print(\"All demand: \", sum_demand(w2_14))\n",
        "print(\"Demand: %.02lf\" % (d1+d2))\n",
        "print(\"======================================\")"
      ],
      "execution_count": null,
      "outputs": [
        {
          "output_type": "stream",
          "text": [
            "============ First Path =============\n",
            "Node: 0\n",
            "Demand: 0.00\n",
            "Sum Demand: 0.00\n",
            "==========\n",
            "Node: 3\n",
            "Demand: 0.30\n",
            "Sum Demand: 0.30\n",
            "==========\n",
            "Node: 14\n",
            "Demand: 0.30\n",
            "Sum Demand: 0.60\n",
            "==========\n",
            "Node: 11\n",
            "Demand: 0.10\n",
            "Sum Demand: 0.70\n",
            "==========\n",
            "Node: 8\n",
            "Demand: 1.00\n",
            "Sum Demand: 1.70\n",
            "==========\n",
            "Node: 1\n",
            "Demand: 0.20\n",
            "Sum Demand: 1.90\n",
            "==========\n",
            "Node: 5\n",
            "Demand: 0.50\n",
            "Sum Demand: 2.40\n",
            "==========\n",
            "Node: 9\n",
            "Demand: 2.00\n",
            "Sum Demand: 4.40\n",
            "==========\n",
            "Node: 12\n",
            "Demand: 0.20\n",
            "Sum Demand: 4.60\n",
            "==========\n",
            "Node: 10\n",
            "Demand: 0.10\n",
            "Sum Demand: 4.70\n",
            "==========\n",
            "============ Second Path =============\n",
            "Node: 0\n",
            "Demand: 0.00\n",
            "Sum Demand: 0.00\n",
            "==========\n",
            "Node: 4\n",
            "Demand: 0.70\n",
            "Sum Demand: 0.70\n",
            "==========\n",
            "Node: 7\n",
            "Demand: 1.00\n",
            "Sum Demand: 1.70\n",
            "==========\n",
            "Node: 2\n",
            "Demand: 0.80\n",
            "Sum Demand: 2.50\n",
            "==========\n",
            "Node: 6\n",
            "Demand: 1.00\n",
            "Sum Demand: 3.50\n",
            "==========\n",
            "Node: 13\n",
            "Demand: 0.20\n",
            "Sum Demand: 3.70\n",
            "==========\n",
            "======================================\n",
            "All demand:  8.4\n",
            "Demand: 8.40\n",
            "======================================\n"
          ],
          "name": "stdout"
        }
      ]
    }
  ]
}